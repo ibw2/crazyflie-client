{
 "cells": [
  {
   "cell_type": "markdown",
   "id": "0ef24ee5",
   "metadata": {},
   "source": [
    "# 1. Set up the notebook"
   ]
  },
  {
   "cell_type": "markdown",
   "id": "365fe882",
   "metadata": {},
   "source": [
    "Import all the modules we need."
   ]
  },
  {
   "cell_type": "code",
   "execution_count": 1,
   "id": "26f4a988",
   "metadata": {},
   "outputs": [
    {
     "name": "stderr",
     "output_type": "stream",
     "text": [
      "pybullet build time: Jul 21 2022 19:59:54\n"
     ]
    }
   ],
   "source": [
    "# These are standard modules\n",
    "import numpy as np\n",
    "import sympy as sym\n",
    "import matplotlib.pyplot as plt\n",
    "\n",
    "# This is a custom interface to the pybullet simulator\n",
    "import ae483_drone"
   ]
  },
  {
   "cell_type": "markdown",
   "id": "c7a9062e",
   "metadata": {},
   "source": [
    "# 2. Start the simulator"
   ]
  },
  {
   "cell_type": "markdown",
   "id": "1644d8cf",
   "metadata": {},
   "source": [
    "Create an instance of the `Simulator` class, which is an interface to the [pybullet](http://pybullet.org) simulation engine.\n",
    "\n",
    "There are three optional arguments:\n",
    "\n",
    "* `display` (`True` or `False`) is whether or not to show the simulation window - if you are recording videos or generating data, it is faster not to show the window;\n",
    "* `width` and `height` (positive integers) are the dimensions of the simulation window - these will also be the dimensions of snapshots or videos that are generated.\n",
    "\n",
    "**You must evaluate this cell only *once*.** If you want to start fresh with a new simulator, you must do `Kernel -> Restart` from the notebook menu first. If you evaluate this cell more than once without a call to `Kernel -> Restart` then you may get strange behavior that is hard to debug. (If you would like to help eliminate this strange behavior - which is a consequence of issues with how pybullet interacts with MacOS - by contributing to the pybullet open-source project, contact [Prof. Bretl](mailto:tbretl@illinois.edu).)"
   ]
  },
  {
   "cell_type": "code",
   "execution_count": 5,
   "id": "add63602",
   "metadata": {},
   "outputs": [],
   "source": [
    "simulator = ae483_drone.Simulator(\n",
    "    display=True,\n",
    "    width=640,\n",
    "    height=480,\n",
    ")"
   ]
  },
  {
   "cell_type": "markdown",
   "id": "ff42c074",
   "metadata": {},
   "source": [
    "## 3.1 Flight test (template)\n",
    "\n",
    "Each time you duplicate this section, replace the title with a brief description of your current flight test."
   ]
  },
  {
   "cell_type": "markdown",
   "id": "7b321014",
   "metadata": {},
   "source": [
    "### 3.1.1 Create a client"
   ]
  },
  {
   "cell_type": "markdown",
   "id": "0839363c",
   "metadata": {},
   "source": [
    "The \"client\" specifies the desired position and yaw angle at a given time."
   ]
  },
  {
   "cell_type": "code",
   "execution_count": 3,
   "id": "bd75df46",
   "metadata": {},
   "outputs": [],
   "source": [
    "class RobotClient:\n",
    "    def __init__(self):\n",
    "        pass\n",
    "    \n",
    "    def run(self, t):\n",
    "        o_x = 0.\n",
    "        o_y = 0.\n",
    "        o_z = 0.3\n",
    "        psi = 0.\n",
    "        \n",
    "        return {\n",
    "            'o_x': o_x,\n",
    "            'o_y': o_y,\n",
    "            'o_z': o_z,\n",
    "            'psi': psi,\n",
    "        }"
   ]
  },
  {
   "cell_type": "markdown",
   "id": "81308717",
   "metadata": {},
   "source": [
    "### 3.1.2 Create a controller"
   ]
  },
  {
   "cell_type": "markdown",
   "id": "f3767d97",
   "metadata": {},
   "source": [
    "The \"controller\" specifies the motor power commands at a given state and setpoint."
   ]
  },
  {
   "cell_type": "code",
   "execution_count": 4,
   "id": "3f312231",
   "metadata": {},
   "outputs": [],
   "source": [
    "class RobotController:\n",
    "    def __init__(self):\n",
    "        pass\n",
    "\n",
    "    def limitUint16(self, m):\n",
    "        \"\"\"\n",
    "        This function returns the closest integer to \"m\" in the\n",
    "        range [0, 65535]. It is called \"limitUint16\" because an\n",
    "        \"unsigned 16-bit integer\" is limited to this range.\n",
    "        \"\"\"\n",
    "        m = np.round(m, decimals=0)\n",
    "        if m < 0:\n",
    "            m = 0\n",
    "        elif m > 65535:\n",
    "            m = 65535\n",
    "        return m\n",
    "\n",
    "    def run(self, state, setpoint):\n",
    "        # Parse state\n",
    "        o_x = state['o_x']\n",
    "        o_y = state['o_y']\n",
    "        o_z = state['o_z']\n",
    "        psi = state['psi']\n",
    "        theta = state['theta']\n",
    "        phi = state['phi']\n",
    "        v_x = state['v_x']\n",
    "        v_y = state['v_y']\n",
    "        v_z = state['v_z']\n",
    "        w_x = state['w_x']\n",
    "        w_y = state['w_y']\n",
    "        w_z = state['w_z']\n",
    "        \n",
    "        # Parse setpoint\n",
    "        o_x_des = setpoint['o_x']\n",
    "        o_y_des = setpoint['o_y']\n",
    "        o_z_des = setpoint['o_z']\n",
    "        \n",
    "        tau_x = 1.00000000 * (o_y - o_y_des) -5.42958931 * phi + 1.45153364 * v_y -1.00005429 * w_x\n",
    "        tau_y = -1.00000000 * (o_x - o_x_des) -5.42958931 * theta -1.45153364 * v_x -1.00005429 * w_y\n",
    "        tau_z = -1.00000000 * psi -1.00002000 * w_z\n",
    "        f_z = -1.00000000 * (o_z - o_z_des) -1.03150376 * v_z\n",
    "        \n",
    "        m_1 = self.limitUint16( -3770739.1 * tau_x -3770739.1 * tau_y -39494470.8 * tau_z + 122549.0 * f_z )\n",
    "        m_2 = self.limitUint16( -3770739.1 * tau_x + 3770739.1 * tau_y + 39494470.8 * tau_z + 122549.0 * f_z )\n",
    "        m_3 = self.limitUint16( 3770739.1 * tau_x + 3770739.1 * tau_y -39494470.8 * tau_z + 122549.0 * f_z )\n",
    "        m_4 = self.limitUint16( 3770739.1 * tau_x -3770739.1 * tau_y + 39494470.8 * tau_z + 122549.0 * f_z )\n",
    "        \n",
    "        return m_1, m_2, m_3, m_4"
   ]
  },
  {
   "cell_type": "markdown",
   "id": "a0e738ad",
   "metadata": {},
   "source": [
    "### 3.1.3 Add a drone with this client and controller to the simulator"
   ]
  },
  {
   "cell_type": "markdown",
   "id": "81649d18",
   "metadata": {},
   "source": [
    "Remove all existing drones from the simulator."
   ]
  },
  {
   "cell_type": "code",
   "execution_count": null,
   "id": "51e60dc3",
   "metadata": {},
   "outputs": [],
   "source": [
    "simulator.clear_drones()"
   ]
  },
  {
   "cell_type": "markdown",
   "id": "d9d8a79e",
   "metadata": {},
   "source": [
    "Add a new drone to the simulator.\n",
    "\n",
    "There are three required arguments:\n",
    "\n",
    "* the name of the drone (a string), for example `my_drone`\n",
    "* the class that defines the client, for example `RobotClient`\n",
    "* the class that defines the controller, for example `RobotController`\n",
    "\n",
    "There is one optional argument that allows you to change the appearance of the drone (if you want) - this is useful if you simulate more than one drone at a time:\n",
    "\n",
    "* `rgba` is a list of four numbers between 0 and 1 (red, green, blue, alpha) that define an [RGBA color](https://en.wikipedia.org/wiki/RGBA_color_model)\n",
    "\n",
    "There are eight optional arguments that allow you to change the physical parameters that govern the drone (mass, moments of inertia, and so forth). You **must** change the values of these arguments if you want the simulated drone to match your real drone.\n",
    "\n",
    "* `m`, `J_x`, `J_y`, `J_z`, `g`, `l`, `k_F`, `k_M` are scalar parameters"
   ]
  },
  {
   "cell_type": "code",
   "execution_count": 8,
   "id": "76b3d0f6",
   "metadata": {},
   "outputs": [],
   "source": [
    "simulator.add_drone(\n",
    "    'my_drone',\n",
    "    RobotClient,\n",
    "    RobotController,\n",
    "    rgba=[1., 0., 1., 1.],\n",
    "    m = 0.0312,\n",
    "    J_x = 1.57e-05,\n",
    "    J_y = 1.60e-05,\n",
    "    J_z = 2.05e-05,\n",
    "    g=9.81,\n",
    "    k_F = 2.04e-06,\n",
    "    k_M = 6.33e-09,\n",
    "    l = .0325 \n",
    ")"
   ]
  },
  {
   "cell_type": "markdown",
   "id": "fe0be075",
   "metadata": {},
   "source": [
    "Set the initial state of this drone. Here, as an example, we start the drone near the desired position that was specified by the client."
   ]
  },
  {
   "cell_type": "code",
   "execution_count": 9,
   "id": "a6d1dcbd",
   "metadata": {},
   "outputs": [],
   "source": [
    "simulator.set_state(\n",
    "    'my_drone',\n",
    "    {\n",
    "        'o_x': 0.01,\n",
    "        'o_y': -0.02,\n",
    "        'o_z': 0.27,\n",
    "        'psi': 0.,\n",
    "        'theta': 0.,\n",
    "        'phi': 0.,\n",
    "        'v_x': 0.,\n",
    "        'v_y': 0.,\n",
    "        'v_z': 0.,\n",
    "        'w_x': 0.,\n",
    "        'w_y': 0.,\n",
    "        'w_z': 0.,\n",
    "    },\n",
    ")"
   ]
  },
  {
   "cell_type": "markdown",
   "id": "be1f29c6",
   "metadata": {},
   "source": [
    "You could repeat this process to add more drones, if you want to test more than one client and controller (or more than one initial state) at a time."
   ]
  },
  {
   "cell_type": "markdown",
   "id": "e76a7044",
   "metadata": {},
   "source": [
    "### 3.1.4 Set the camera view (optional)"
   ]
  },
  {
   "cell_type": "markdown",
   "id": "a86858e8",
   "metadata": {},
   "source": [
    "Here is how to make the camera always look at a certain point (in this case, a point that is 0.3 meters above the origin of the world frame):"
   ]
  },
  {
   "cell_type": "code",
   "execution_count": 10,
   "id": "488978e9",
   "metadata": {},
   "outputs": [],
   "source": [
    "simulator.set_camera_target([0.0, 0.0, 0.3])"
   ]
  },
  {
   "cell_type": "markdown",
   "id": "8b0dadfa",
   "metadata": {},
   "source": [
    "Here is how to make the camera always look at a certain drone (in this case, the one called `my_drone`):"
   ]
  },
  {
   "cell_type": "code",
   "execution_count": 11,
   "id": "1c89c8a2",
   "metadata": {},
   "outputs": [],
   "source": [
    "simulator.set_camera_target('my_drone')"
   ]
  },
  {
   "cell_type": "markdown",
   "id": "79522e18",
   "metadata": {},
   "source": [
    "Here is how to get a top view:"
   ]
  },
  {
   "cell_type": "code",
   "execution_count": 12,
   "id": "2dd6a1fa",
   "metadata": {},
   "outputs": [],
   "source": [
    "simulator.camera_topview()"
   ]
  },
  {
   "cell_type": "markdown",
   "id": "176c7461",
   "metadata": {},
   "source": [
    "Here is how to get a side view:"
   ]
  },
  {
   "cell_type": "code",
   "execution_count": null,
   "id": "fdd13af9",
   "metadata": {},
   "outputs": [],
   "source": [
    "simulator.camera_sideview()"
   ]
  },
  {
   "cell_type": "markdown",
   "id": "8f5eaaca",
   "metadata": {},
   "source": [
    "Here is how to change the yaw angle of the camera (i.e., to make the camera rotate about the point it is looking at):"
   ]
  },
  {
   "cell_type": "code",
   "execution_count": null,
   "id": "abc3b232",
   "metadata": {},
   "outputs": [],
   "source": [
    "simulator.set_camera_yaw(45)"
   ]
  },
  {
   "cell_type": "markdown",
   "id": "4b8408a2",
   "metadata": {},
   "source": [
    "Here is how to change the distance between the camera and the point it is looking at:"
   ]
  },
  {
   "cell_type": "code",
   "execution_count": null,
   "id": "482d322c",
   "metadata": {},
   "outputs": [],
   "source": [
    "simulator.set_camera_distance(1.0)"
   ]
  },
  {
   "cell_type": "markdown",
   "id": "a7cd95f4",
   "metadata": {},
   "source": [
    "### 3.1.5 Run the simulator"
   ]
  },
  {
   "cell_type": "markdown",
   "id": "2c2a89ac",
   "metadata": {},
   "source": [
    "Here is how to run the simulator for 10 seconds while saving data to the file `simulation_1_data.json` and saving video to the file `simulation_1_video.json`.\n",
    "\n",
    "If you do not need to save video and want this to run much faster, then specify `video_filename=None`."
   ]
  },
  {
   "cell_type": "code",
   "execution_count": 14,
   "id": "49aa2dd6",
   "metadata": {},
   "outputs": [
    {
     "name": "stdout",
     "output_type": "stream",
     "text": [
      "Creating a video with name simulation_1_video.mov and fps 100\n",
      " 100 / 1000\n",
      " 200 / 1000\n",
      " 300 / 1000\n",
      " 400 / 1000\n",
      " 500 / 1000\n",
      " 600 / 1000\n",
      " 700 / 1000\n",
      " 800 / 1000\n",
      " 900 / 1000\n",
      " 1000 / 1000\n",
      "Completed 1000 time steps in 77.5421 seconds (12.8962 time steps per second)\n"
     ]
    }
   ],
   "source": [
    "simulator.run(\n",
    "    max_time=10.,\n",
    "    data_filename='simulation_1_data.json',\n",
    "    video_filename='simulation_1_video.mov',\n",
    ")"
   ]
  },
  {
   "cell_type": "code",
   "execution_count": null,
   "id": "d4637420",
   "metadata": {},
   "outputs": [],
   "source": []
  },
  {
   "cell_type": "markdown",
   "id": "46331658",
   "metadata": {},
   "source": [
    "Be careful! Both the data file and the video file will be overwritten if they already exist. We suggest you use a different name for each experiment."
   ]
  },
  {
   "cell_type": "markdown",
   "id": "e206209c",
   "metadata": {},
   "source": [
    "## 3.2 Flight test\n",
    "\n",
    "Each time you duplicate this section, replace the title with a brief description of your current flight test."
   ]
  },
  {
   "cell_type": "markdown",
   "id": "847a0952",
   "metadata": {},
   "source": [
    "### 3.2.1 Create a client"
   ]
  },
  {
   "cell_type": "markdown",
   "id": "fcc3e7b7",
   "metadata": {},
   "source": [
    "The \"client\" specifies the desired position and yaw angle at a given time."
   ]
  },
  {
   "cell_type": "code",
   "execution_count": 8,
   "id": "a4e59fa6",
   "metadata": {},
   "outputs": [],
   "source": [
    "class RobotClient:\n",
    "    def __init__(self):\n",
    "        pass\n",
    "    \n",
    "    def run(self, t):\n",
    "        o_x = 0.\n",
    "        o_y = 0.\n",
    "        o_z = 0.3\n",
    "        psi = 0.\n",
    "        \n",
    "        return {\n",
    "            'o_x': o_x,\n",
    "            'o_y': o_y,\n",
    "            'o_z': o_z,\n",
    "            'psi': psi,\n",
    "        }"
   ]
  },
  {
   "cell_type": "markdown",
   "id": "bfaf8ae1",
   "metadata": {},
   "source": [
    "### 3.2.2 Create a controller"
   ]
  },
  {
   "cell_type": "markdown",
   "id": "3adb3078",
   "metadata": {},
   "source": [
    "The \"controller\" specifies the motor power commands at a given state and setpoint."
   ]
  },
  {
   "cell_type": "code",
   "execution_count": 43,
   "id": "74ee122c",
   "metadata": {},
   "outputs": [],
   "source": [
    "class RobotController:\n",
    "    def __init__(self):\n",
    "        pass\n",
    "\n",
    "    def limitUint16(self, m):\n",
    "        \"\"\"\n",
    "        This function returns the closest integer to \"m\" in the\n",
    "        range [0, 65535]. It is called \"limitUint16\" because an\n",
    "        \"unsigned 16-bit integer\" is limited to this range.\n",
    "        \"\"\"\n",
    "        m = np.round(m, decimals=0)\n",
    "        if m < 0:\n",
    "            m = 0\n",
    "        elif m > 65535:\n",
    "            m = 65535\n",
    "        return m\n",
    "\n",
    "    def run(self, state, setpoint):\n",
    "        # Parse state\n",
    "        o_x = state['o_x']\n",
    "        o_y = state['o_y']\n",
    "        o_z = state['o_z']\n",
    "        psi = state['psi']\n",
    "        theta = state['theta']\n",
    "        phi = state['phi']\n",
    "        v_x = state['v_x']\n",
    "        v_y = state['v_y']\n",
    "        v_z = state['v_z']\n",
    "        w_x = state['w_x']\n",
    "        w_y = state['w_y']\n",
    "        w_z = state['w_z']\n",
    "        \n",
    "        # Parse setpoint\n",
    "        o_x_des = setpoint['o_x']\n",
    "        o_y_des = setpoint['o_y']\n",
    "        o_z_des = setpoint['o_z']\n",
    "        \n",
    "        tau_x = 0.00066300 * (o_y - o_y_des) -0.00439973 * phi + 0.00101699 * v_y -0.00076008 * w_x\n",
    "        tau_y = -0.00066300 * (o_x - o_x_des) -0.00440388 * theta -0.00101727 * v_x -0.00076190 * w_y\n",
    "        tau_z = -0.00000206 * psi -0.00000941 * w_z\n",
    "        f_z = -0.00937624 * (o_z - o_z_des) -0.02436942 * v_z + 0.30607200\n",
    "        \n",
    "        m_1 = self.limitUint16( -3770739.1 * tau_x -3770739.1 * tau_y -39494470.8 * tau_z + 122549.0 * f_z )\n",
    "        m_2 = self.limitUint16( -3770739.1 * tau_x + 3770739.1 * tau_y + 39494470.8 * tau_z + 122549.0 * f_z )\n",
    "        m_3 = self.limitUint16( 3770739.1 * tau_x + 3770739.1 * tau_y -39494470.8 * tau_z + 122549.0 * f_z )\n",
    "        m_4 = self.limitUint16( 3770739.1 * tau_x -3770739.1 * tau_y + 39494470.8 * tau_z + 122549.0 * f_z )\n",
    "        \n",
    "        return m_1, m_2, m_3, m_4"
   ]
  },
  {
   "cell_type": "markdown",
   "id": "3f2a4f3d",
   "metadata": {},
   "source": [
    "### 3.2.3 Add a drone with this client and controller to the simulator"
   ]
  },
  {
   "cell_type": "markdown",
   "id": "6d222647",
   "metadata": {},
   "source": [
    "Remove all existing drones from the simulator."
   ]
  },
  {
   "cell_type": "code",
   "execution_count": 44,
   "id": "53d4b4fb",
   "metadata": {},
   "outputs": [],
   "source": [
    "simulator.clear_drones()"
   ]
  },
  {
   "cell_type": "markdown",
   "id": "10418543",
   "metadata": {},
   "source": [
    "Add a new drone to the simulator.\n",
    "\n",
    "There are three required arguments:\n",
    "\n",
    "* the name of the drone (a string), for example `my_drone`\n",
    "* the class that defines the client, for example `RobotClient`\n",
    "* the class that defines the controller, for example `RobotController`\n",
    "\n",
    "There is one optional argument that allows you to change the appearance of the drone (if you want) - this is useful if you simulate more than one drone at a time:\n",
    "\n",
    "* `rgba` is a list of four numbers between 0 and 1 (red, green, blue, alpha) that define an [RGBA color](https://en.wikipedia.org/wiki/RGBA_color_model)\n",
    "\n",
    "There are eight optional arguments that allow you to change the physical parameters that govern the drone (mass, moments of inertia, and so forth). You **must** change the values of these arguments if you want the simulated drone to match your real drone.\n",
    "\n",
    "* `m`, `J_x`, `J_y`, `J_z`, `g`, `l`, `k_F`, `k_M` are scalar parameters"
   ]
  },
  {
   "cell_type": "code",
   "execution_count": 45,
   "id": "7779bb4f",
   "metadata": {},
   "outputs": [],
   "source": [
    "simulator.add_drone(\n",
    "    'my_drone',\n",
    "    RobotClient,\n",
    "    RobotController,\n",
    "    rgba=[1., 0., 1., 1.],\n",
    "    m = 0.0312,\n",
    "    J_x = 1.57e-05,\n",
    "    J_y = 1.60e-05,\n",
    "    J_z = 2.05e-05,\n",
    "    g=9.81,\n",
    "    k_F = 2.04e-06,\n",
    "    k_M = 6.33e-09,\n",
    "    l = .0325 \n",
    ")"
   ]
  },
  {
   "cell_type": "markdown",
   "id": "a5b87978",
   "metadata": {},
   "source": [
    "Set the initial state of this drone. Here, as an example, we start the drone near the desired position that was specified by the client."
   ]
  },
  {
   "cell_type": "code",
   "execution_count": 46,
   "id": "9dd230e3",
   "metadata": {},
   "outputs": [],
   "source": [
    "simulator.set_state(\n",
    "    'my_drone',\n",
    "    {\n",
    "        'o_x': 0.01,\n",
    "        'o_y': -0.02,\n",
    "        'o_z': 0.27,\n",
    "        'psi': 0.,\n",
    "        'theta': 0.,\n",
    "        'phi': 0.,\n",
    "        'v_x': 0.,\n",
    "        'v_y': 0.,\n",
    "        'v_z': 0.,\n",
    "        'w_x': 0.,\n",
    "        'w_y': 0.,\n",
    "        'w_z': 0.,\n",
    "    },\n",
    ")"
   ]
  },
  {
   "cell_type": "markdown",
   "id": "14a1759e",
   "metadata": {},
   "source": [
    "You could repeat this process to add more drones, if you want to test more than one client and controller (or more than one initial state) at a time."
   ]
  },
  {
   "cell_type": "markdown",
   "id": "d09d2f05",
   "metadata": {},
   "source": [
    "### 3.2.4 Set the camera view (optional)"
   ]
  },
  {
   "cell_type": "markdown",
   "id": "4336e31d",
   "metadata": {},
   "source": [
    "Here is how to make the camera always look at a certain point (in this case, a point that is 0.3 meters above the origin of the world frame):"
   ]
  },
  {
   "cell_type": "code",
   "execution_count": 28,
   "id": "166ccefa",
   "metadata": {},
   "outputs": [],
   "source": [
    "simulator.set_camera_target([0.0, 0.0, 0.3])"
   ]
  },
  {
   "cell_type": "markdown",
   "id": "a5c10079",
   "metadata": {},
   "source": [
    "Here is how to make the camera always look at a certain drone (in this case, the one called `my_drone`):"
   ]
  },
  {
   "cell_type": "code",
   "execution_count": 29,
   "id": "60d2c9ee",
   "metadata": {},
   "outputs": [],
   "source": [
    "simulator.set_camera_target('my_drone')"
   ]
  },
  {
   "cell_type": "markdown",
   "id": "55580310",
   "metadata": {},
   "source": [
    "Here is how to get a top view:"
   ]
  },
  {
   "cell_type": "code",
   "execution_count": 21,
   "id": "a72caa0c",
   "metadata": {},
   "outputs": [],
   "source": [
    "simulator.camera_topview()"
   ]
  },
  {
   "cell_type": "markdown",
   "id": "734bb72f",
   "metadata": {},
   "source": [
    "Here is how to get a side view:"
   ]
  },
  {
   "cell_type": "code",
   "execution_count": 30,
   "id": "b766f051",
   "metadata": {},
   "outputs": [],
   "source": [
    "simulator.camera_sideview()"
   ]
  },
  {
   "cell_type": "markdown",
   "id": "d6323d14",
   "metadata": {},
   "source": [
    "Here is how to change the yaw angle of the camera (i.e., to make the camera rotate about the point it is looking at):"
   ]
  },
  {
   "cell_type": "code",
   "execution_count": null,
   "id": "80f5fd89",
   "metadata": {},
   "outputs": [],
   "source": [
    "simulator.set_camera_yaw(45)"
   ]
  },
  {
   "cell_type": "markdown",
   "id": "1dbb8350",
   "metadata": {},
   "source": [
    "Here is how to change the distance between the camera and the point it is looking at:"
   ]
  },
  {
   "cell_type": "code",
   "execution_count": null,
   "id": "1b98d31b",
   "metadata": {},
   "outputs": [],
   "source": [
    "simulator.set_camera_distance(1.0)"
   ]
  },
  {
   "cell_type": "markdown",
   "id": "c9954e75",
   "metadata": {},
   "source": [
    "### 3.2.5 Run the simulator"
   ]
  },
  {
   "cell_type": "markdown",
   "id": "d18d6007",
   "metadata": {},
   "source": [
    "Here is how to run the simulator for 10 seconds while saving data to the file `simulation_x_data.json` and saving video to the file `simulation_x_video.json`.\n",
    "\n",
    "If you do not need to save video and want this to run much faster, then specify `video_filename=None`."
   ]
  },
  {
   "cell_type": "code",
   "execution_count": 47,
   "id": "8f28c177",
   "metadata": {},
   "outputs": [
    {
     "name": "stdout",
     "output_type": "stream",
     "text": [
      "Creating a video with name simulation_2_video.mov and fps 100\n",
      " 100 / 1000\n",
      " 200 / 1000\n",
      " 300 / 1000\n",
      " 400 / 1000\n",
      " 500 / 1000\n",
      " 600 / 1000\n",
      " 700 / 1000\n",
      " 800 / 1000\n",
      " 900 / 1000\n",
      " 1000 / 1000\n",
      "Completed 1000 time steps in 56.1586 seconds (17.8067 time steps per second)\n"
     ]
    }
   ],
   "source": [
    "simulator.run(\n",
    "    max_time=10.,\n",
    "    data_filename='simulation_2_data.json',\n",
    "    video_filename='simulation_2_video.mov',\n",
    ")"
   ]
  },
  {
   "cell_type": "markdown",
   "id": "3b76e4f0",
   "metadata": {},
   "source": [
    "Be careful! Both the data file and the video file will be overwritten if they already exist. We suggest you use a different name for each experiment."
   ]
  },
  {
   "cell_type": "markdown",
   "id": "0ec3d2bb",
   "metadata": {},
   "source": [
    "## 3.3 Flight test\n",
    "\n",
    "Each time you duplicate this section, replace the title with a brief description of your current flight test."
   ]
  },
  {
   "cell_type": "markdown",
   "id": "a76f39f6",
   "metadata": {},
   "source": [
    "### 3.3.1 Create a client"
   ]
  },
  {
   "cell_type": "markdown",
   "id": "e6f5449f",
   "metadata": {},
   "source": [
    "The \"client\" specifies the desired position and yaw angle at a given time."
   ]
  },
  {
   "cell_type": "code",
   "execution_count": 6,
   "id": "44d21b36",
   "metadata": {},
   "outputs": [],
   "source": [
    "class RobotClient:\n",
    "    def __init__(self):\n",
    "        pass\n",
    "    \n",
    "    def run(self, t):\n",
    "        o_x = 0.\n",
    "        o_y = 0.\n",
    "        o_z = 0.3\n",
    "        psi = 0.\n",
    "        \n",
    "        return {\n",
    "            'o_x': o_x,\n",
    "            'o_y': o_y,\n",
    "            'o_z': o_z,\n",
    "            'psi': psi,\n",
    "        }"
   ]
  },
  {
   "cell_type": "markdown",
   "id": "9f080acf",
   "metadata": {},
   "source": [
    "### 3.3.2 Create a controller"
   ]
  },
  {
   "cell_type": "markdown",
   "id": "76deba89",
   "metadata": {},
   "source": [
    "The \"controller\" specifies the motor power commands at a given state and setpoint."
   ]
  },
  {
   "cell_type": "code",
   "execution_count": 7,
   "id": "6a3548d3",
   "metadata": {},
   "outputs": [],
   "source": [
    "class RobotController:\n",
    "    def __init__(self):\n",
    "        pass\n",
    "\n",
    "    def limitUint16(self, m):\n",
    "        \"\"\"\n",
    "        This function returns the closest integer to \"m\" in the\n",
    "        range [0, 65535]. It is called \"limitUint16\" because an\n",
    "        \"unsigned 16-bit integer\" is limited to this range.\n",
    "        \"\"\"\n",
    "        m = np.round(m, decimals=0)\n",
    "        if m < 0:\n",
    "            m = 0\n",
    "        elif m > 65535:\n",
    "            m = 65535\n",
    "        return m\n",
    "\n",
    "    def run(self, state, setpoint):\n",
    "        # Parse state\n",
    "        o_x = state['o_x']\n",
    "        o_y = state['o_y']\n",
    "        o_z = state['o_z']\n",
    "        psi = state['psi']\n",
    "        theta = state['theta']\n",
    "        phi = state['phi']\n",
    "        v_x = state['v_x']\n",
    "        v_y = state['v_y']\n",
    "        v_z = state['v_z']\n",
    "        w_x = state['w_x']\n",
    "        w_y = state['w_y']\n",
    "        w_z = state['w_z']\n",
    "        \n",
    "        # Parse setpoint\n",
    "        o_x_des = setpoint['o_x']\n",
    "        o_y_des = setpoint['o_y']\n",
    "        o_z_des = setpoint['o_z']\n",
    "        \n",
    "        tau_x = 0.00066300 * (o_y - o_y_des) -0.00439973 * phi + 0.00101699 * v_y -0.00076008 * w_x\n",
    "        tau_y = -0.00066300 * (o_x - o_x_des) -0.00440388 * theta -0.00101727 * v_x -0.00076190 * w_y\n",
    "        tau_z = -0.00002057 * psi -0.00002912 * w_z\n",
    "        f_z = -0.29650261 * (o_z - o_z_des) -0.16520637 * v_z + 0.30607200\n",
    "\n",
    "        m_1 = self.limitUint16( -3770739.1 * tau_x -3770739.1 * tau_y -39494470.8 * tau_z + 122549.0 * f_z )\n",
    "        m_2 = self.limitUint16( -3770739.1 * tau_x + 3770739.1 * tau_y + 39494470.8 * tau_z + 122549.0 * f_z )\n",
    "        m_3 = self.limitUint16( 3770739.1 * tau_x + 3770739.1 * tau_y -39494470.8 * tau_z + 122549.0 * f_z )\n",
    "        m_4 = self.limitUint16( 3770739.1 * tau_x -3770739.1 * tau_y + 39494470.8 * tau_z + 122549.0 * f_z )\n",
    "        \n",
    "        return m_1, m_2, m_3, m_4"
   ]
  },
  {
   "cell_type": "markdown",
   "id": "1d9b649f",
   "metadata": {},
   "source": [
    "### 3.3.3 Add a drone with this client and controller to the simulator"
   ]
  },
  {
   "cell_type": "markdown",
   "id": "d3c80553",
   "metadata": {},
   "source": [
    "Remove all existing drones from the simulator."
   ]
  },
  {
   "cell_type": "code",
   "execution_count": 8,
   "id": "68a79283",
   "metadata": {},
   "outputs": [],
   "source": [
    "simulator.clear_drones()"
   ]
  },
  {
   "cell_type": "markdown",
   "id": "cb3c6b32",
   "metadata": {},
   "source": [
    "Add a new drone to the simulator.\n",
    "\n",
    "There are three required arguments:\n",
    "\n",
    "* the name of the drone (a string), for example `my_drone`\n",
    "* the class that defines the client, for example `RobotClient`\n",
    "* the class that defines the controller, for example `RobotController`\n",
    "\n",
    "There is one optional argument that allows you to change the appearance of the drone (if you want) - this is useful if you simulate more than one drone at a time:\n",
    "\n",
    "* `rgba` is a list of four numbers between 0 and 1 (red, green, blue, alpha) that define an [RGBA color](https://en.wikipedia.org/wiki/RGBA_color_model)\n",
    "\n",
    "There are eight optional arguments that allow you to change the physical parameters that govern the drone (mass, moments of inertia, and so forth). You **must** change the values of these arguments if you want the simulated drone to match your real drone.\n",
    "\n",
    "* `m`, `J_x`, `J_y`, `J_z`, `g`, `l`, `k_F`, `k_M` are scalar parameters"
   ]
  },
  {
   "cell_type": "code",
   "execution_count": 9,
   "id": "e9da72a7",
   "metadata": {},
   "outputs": [],
   "source": [
    "simulator.add_drone(\n",
    "    'my_drone',\n",
    "    RobotClient,\n",
    "    RobotController,\n",
    "    rgba=[1., 0., 1., 1.],\n",
    "    m = 0.0312,\n",
    "    J_x = 1.57e-05,\n",
    "    J_y = 1.60e-05,\n",
    "    J_z = 2.05e-05,\n",
    "    g=9.81,\n",
    "    k_F = 2.04e-06,\n",
    "    k_M = 6.33e-09,\n",
    "    l = .0325 \n",
    ")"
   ]
  },
  {
   "cell_type": "markdown",
   "id": "863f7832",
   "metadata": {},
   "source": [
    "Set the initial state of this drone. Here, as an example, we start the drone near the desired position that was specified by the client."
   ]
  },
  {
   "cell_type": "code",
   "execution_count": 10,
   "id": "9f64b937",
   "metadata": {},
   "outputs": [],
   "source": [
    "simulator.set_state(\n",
    "    'my_drone',\n",
    "    {\n",
    "        'o_x': 0.01,\n",
    "        'o_y': -0.02,\n",
    "        'o_z': 0.27,\n",
    "        'psi': 0.,\n",
    "        'theta': 0.,\n",
    "        'phi': 0.,\n",
    "        'v_x': 0.,\n",
    "        'v_y': 0.,\n",
    "        'v_z': 0.,\n",
    "        'w_x': 0.,\n",
    "        'w_y': 0.,\n",
    "        'w_z': 0.,\n",
    "    },\n",
    ")"
   ]
  },
  {
   "cell_type": "markdown",
   "id": "c84098ad",
   "metadata": {},
   "source": [
    "You could repeat this process to add more drones, if you want to test more than one client and controller (or more than one initial state) at a time."
   ]
  },
  {
   "cell_type": "markdown",
   "id": "45e5bfa4",
   "metadata": {},
   "source": [
    "### 3.3.4 Set the camera view (optional)"
   ]
  },
  {
   "cell_type": "markdown",
   "id": "45c8ffed",
   "metadata": {},
   "source": [
    "Here is how to make the camera always look at a certain point (in this case, a point that is 0.3 meters above the origin of the world frame):"
   ]
  },
  {
   "cell_type": "code",
   "execution_count": 28,
   "id": "ba49a22f",
   "metadata": {},
   "outputs": [],
   "source": [
    "simulator.set_camera_target([0.0, 0.0, 0.3])"
   ]
  },
  {
   "cell_type": "markdown",
   "id": "76476a0c",
   "metadata": {},
   "source": [
    "Here is how to make the camera always look at a certain drone (in this case, the one called `my_drone`):"
   ]
  },
  {
   "cell_type": "code",
   "execution_count": 29,
   "id": "919d6640",
   "metadata": {},
   "outputs": [],
   "source": [
    "simulator.set_camera_target('my_drone')"
   ]
  },
  {
   "cell_type": "markdown",
   "id": "053fa10c",
   "metadata": {},
   "source": [
    "Here is how to get a top view:"
   ]
  },
  {
   "cell_type": "code",
   "execution_count": 21,
   "id": "50b77f2d",
   "metadata": {},
   "outputs": [],
   "source": [
    "simulator.camera_topview()"
   ]
  },
  {
   "cell_type": "markdown",
   "id": "8798caa4",
   "metadata": {},
   "source": [
    "Here is how to get a side view:"
   ]
  },
  {
   "cell_type": "code",
   "execution_count": 30,
   "id": "a92b2647",
   "metadata": {},
   "outputs": [],
   "source": [
    "simulator.camera_sideview()"
   ]
  },
  {
   "cell_type": "markdown",
   "id": "c70d208d",
   "metadata": {},
   "source": [
    "Here is how to change the yaw angle of the camera (i.e., to make the camera rotate about the point it is looking at):"
   ]
  },
  {
   "cell_type": "code",
   "execution_count": null,
   "id": "3e31e1f3",
   "metadata": {},
   "outputs": [],
   "source": [
    "simulator.set_camera_yaw(45)"
   ]
  },
  {
   "cell_type": "markdown",
   "id": "b841a4fe",
   "metadata": {},
   "source": [
    "Here is how to change the distance between the camera and the point it is looking at:"
   ]
  },
  {
   "cell_type": "code",
   "execution_count": null,
   "id": "572e736c",
   "metadata": {},
   "outputs": [],
   "source": [
    "simulator.set_camera_distance(1.0)"
   ]
  },
  {
   "cell_type": "markdown",
   "id": "a3f4f92e",
   "metadata": {},
   "source": [
    "### 3.3.5 Run the simulator"
   ]
  },
  {
   "cell_type": "markdown",
   "id": "54bbe2f1",
   "metadata": {},
   "source": [
    "Here is how to run the simulator for 10 seconds while saving data to the file `simulation_x_data.json` and saving video to the file `simulation_x_video.json`.\n",
    "\n",
    "If you do not need to save video and want this to run much faster, then specify `video_filename=None`."
   ]
  },
  {
   "cell_type": "code",
   "execution_count": 11,
   "id": "f34dcf99",
   "metadata": {},
   "outputs": [
    {
     "name": "stdout",
     "output_type": "stream",
     "text": [
      "Creating a video with name simulation_3_video.mov and fps 100\n",
      " 100 / 1000\n",
      " 200 / 1000\n",
      " 300 / 1000\n",
      " 400 / 1000\n",
      " 500 / 1000\n",
      " 600 / 1000\n",
      " 700 / 1000\n",
      " 800 / 1000\n",
      " 900 / 1000\n",
      " 1000 / 1000\n",
      "Completed 1000 time steps in 54.2016 seconds (18.4496 time steps per second)\n"
     ]
    }
   ],
   "source": [
    "simulator.run(\n",
    "    max_time=10.,\n",
    "    data_filename='simulation_3_data.json',\n",
    "    video_filename='simulation_3_video.mov',\n",
    ")"
   ]
  },
  {
   "cell_type": "markdown",
   "id": "359632a6",
   "metadata": {},
   "source": [
    "Be careful! Both the data file and the video file will be overwritten if they already exist. We suggest you use a different name for each experiment."
   ]
  },
  {
   "cell_type": "markdown",
   "id": "0b406bbe",
   "metadata": {},
   "source": [
    "# 3. Run experiments"
   ]
  },
  {
   "cell_type": "markdown",
   "id": "35ed48dd",
   "metadata": {},
   "source": [
    "## 3.x Flight test (template)\n",
    "\n",
    "Each time you duplicate this section, replace the title with a brief description of your current flight test."
   ]
  },
  {
   "cell_type": "markdown",
   "id": "b61d820d",
   "metadata": {},
   "source": [
    "### 3.x.1 Create a client"
   ]
  },
  {
   "cell_type": "markdown",
   "id": "9a662b38",
   "metadata": {},
   "source": [
    "The \"client\" specifies the desired position and yaw angle at a given time."
   ]
  },
  {
   "cell_type": "code",
   "execution_count": null,
   "id": "d421023c",
   "metadata": {},
   "outputs": [],
   "source": [
    "class RobotClient:\n",
    "    def __init__(self):\n",
    "        pass\n",
    "    \n",
    "    def run(self, t):\n",
    "        o_x = 0.\n",
    "        o_y = 0.\n",
    "        o_z = 0.3\n",
    "        psi = 0.\n",
    "        \n",
    "        return {\n",
    "            'o_x': o_x,\n",
    "            'o_y': o_y,\n",
    "            'o_z': o_z,\n",
    "            'psi': psi,\n",
    "        }"
   ]
  },
  {
   "cell_type": "markdown",
   "id": "31639784",
   "metadata": {},
   "source": [
    "### 3.x.2 Create a controller"
   ]
  },
  {
   "cell_type": "markdown",
   "id": "77385309",
   "metadata": {},
   "source": [
    "The \"controller\" specifies the motor power commands at a given state and setpoint."
   ]
  },
  {
   "cell_type": "code",
   "execution_count": null,
   "id": "f7bee15c",
   "metadata": {},
   "outputs": [],
   "source": [
    "class RobotController:\n",
    "    def __init__(self):\n",
    "        pass\n",
    "\n",
    "    def limitUint16(self, m):\n",
    "        \"\"\"\n",
    "        This function returns the closest integer to \"m\" in the\n",
    "        range [0, 65535]. It is called \"limitUint16\" because an\n",
    "        \"unsigned 16-bit integer\" is limited to this range.\n",
    "        \"\"\"\n",
    "        m = np.round(m, decimals=0)\n",
    "        if m < 0:\n",
    "            m = 0\n",
    "        elif m > 65535:\n",
    "            m = 65535\n",
    "        return m\n",
    "\n",
    "    def run(self, state, setpoint):\n",
    "        # Parse state\n",
    "        o_x = state['o_x']\n",
    "        o_y = state['o_y']\n",
    "        o_z = state['o_z']\n",
    "        psi = state['psi']\n",
    "        theta = state['theta']\n",
    "        phi = state['phi']\n",
    "        v_x = state['v_x']\n",
    "        v_y = state['v_y']\n",
    "        v_z = state['v_z']\n",
    "        w_x = state['w_x']\n",
    "        w_y = state['w_y']\n",
    "        w_z = state['w_z']\n",
    "        \n",
    "        # Parse setpoint\n",
    "        o_x_des = setpoint['o_x']\n",
    "        o_y_des = setpoint['o_y']\n",
    "        o_z_des = setpoint['o_z']\n",
    "        \n",
    "        # FIXME: Add code here to compute net torques and net force\n",
    "        #\n",
    "        #  tau_x = ...\n",
    "        #  tau_y = ...\n",
    "        #  tau_z = ...\n",
    "        #  f_z = ...\n",
    "        \n",
    "        # FIXME: Replace code here to compute motor power commands\n",
    "        m_1 = 0.\n",
    "        m_2 = 0.\n",
    "        m_3 = 0.\n",
    "        m_4 = 0.\n",
    "        \n",
    "        return m_1, m_2, m_3, m_4"
   ]
  },
  {
   "cell_type": "markdown",
   "id": "5c7437a5",
   "metadata": {},
   "source": [
    "### 3.x.3 Add a drone with this client and controller to the simulator"
   ]
  },
  {
   "cell_type": "markdown",
   "id": "5d9c09dd",
   "metadata": {},
   "source": [
    "Remove all existing drones from the simulator."
   ]
  },
  {
   "cell_type": "code",
   "execution_count": null,
   "id": "2f771ac7",
   "metadata": {},
   "outputs": [],
   "source": [
    "simulator.clear_drones()"
   ]
  },
  {
   "cell_type": "markdown",
   "id": "ab8ed1ec",
   "metadata": {},
   "source": [
    "Add a new drone to the simulator.\n",
    "\n",
    "There are three required arguments:\n",
    "\n",
    "* the name of the drone (a string), for example `my_drone`\n",
    "* the class that defines the client, for example `RobotClient`\n",
    "* the class that defines the controller, for example `RobotController`\n",
    "\n",
    "There is one optional argument that allows you to change the appearance of the drone (if you want) - this is useful if you simulate more than one drone at a time:\n",
    "\n",
    "* `rgba` is a list of four numbers between 0 and 1 (red, green, blue, alpha) that define an [RGBA color](https://en.wikipedia.org/wiki/RGBA_color_model)\n",
    "\n",
    "There are eight optional arguments that allow you to change the physical parameters that govern the drone (mass, moments of inertia, and so forth). You **must** change the values of these arguments if you want the simulated drone to match your real drone.\n",
    "\n",
    "* `m`, `J_x`, `J_y`, `J_z`, `g`, `l`, `k_F`, `k_M` are scalar parameters"
   ]
  },
  {
   "cell_type": "code",
   "execution_count": null,
   "id": "44680e22",
   "metadata": {},
   "outputs": [],
   "source": [
    "simulator.add_drone(\n",
    "    'my_drone',\n",
    "    RobotClient,\n",
    "    RobotController,\n",
    "    rgba=[1., 0., 1., 1.],\n",
    "    m=0.032,   # <-- FIXME\n",
    "    J_x=1e-5,  # <-- FIXME\n",
    "    J_y=1e-5,  # <-- FIXME\n",
    "    J_z=2e-5,  # <-- FIXME\n",
    "    g=9.81,\n",
    "    l=0.035,   # <-- FIXME\n",
    "    k_F=2e-6,  # <-- FIXME\n",
    "    k_M=1e-8,  # <-- FIXME\n",
    ")"
   ]
  },
  {
   "cell_type": "markdown",
   "id": "1124ae53",
   "metadata": {},
   "source": [
    "Set the initial state of this drone. Here, as an example, we start the drone near the desired position that was specified by the client."
   ]
  },
  {
   "cell_type": "code",
   "execution_count": null,
   "id": "00d4c49e",
   "metadata": {},
   "outputs": [],
   "source": [
    "simulator.set_state(\n",
    "    'my_drone',\n",
    "    {\n",
    "        'o_x': 0.01,\n",
    "        'o_y': -0.02,\n",
    "        'o_z': 0.27,\n",
    "        'psi': 0.,\n",
    "        'theta': 0.,\n",
    "        'phi': 0.,\n",
    "        'v_x': 0.,\n",
    "        'v_y': 0.,\n",
    "        'v_z': 0.,\n",
    "        'w_x': 0.,\n",
    "        'w_y': 0.,\n",
    "        'w_z': 0.,\n",
    "    },\n",
    ")"
   ]
  },
  {
   "cell_type": "markdown",
   "id": "a481e966",
   "metadata": {},
   "source": [
    "You could repeat this process to add more drones, if you want to test more than one client and controller (or more than one initial state) at a time."
   ]
  },
  {
   "cell_type": "markdown",
   "id": "aa48b396",
   "metadata": {},
   "source": [
    "### 3.x.4 Set the camera view (optional)"
   ]
  },
  {
   "cell_type": "markdown",
   "id": "47d4f278",
   "metadata": {},
   "source": [
    "Here is how to make the camera always look at a certain point (in this case, a point that is 0.3 meters above the origin of the world frame):"
   ]
  },
  {
   "cell_type": "code",
   "execution_count": null,
   "id": "9f3dba01",
   "metadata": {},
   "outputs": [],
   "source": [
    "simulator.set_camera_target([0.0, 0.0, 0.3])"
   ]
  },
  {
   "cell_type": "markdown",
   "id": "2614aee8",
   "metadata": {},
   "source": [
    "Here is how to make the camera always look at a certain drone (in this case, the one called `my_drone`):"
   ]
  },
  {
   "cell_type": "code",
   "execution_count": null,
   "id": "f248d436",
   "metadata": {},
   "outputs": [],
   "source": [
    "simulator.set_camera_target('my_drone')"
   ]
  },
  {
   "cell_type": "markdown",
   "id": "0df77619",
   "metadata": {},
   "source": [
    "Here is how to get a top view:"
   ]
  },
  {
   "cell_type": "code",
   "execution_count": null,
   "id": "16cd94da",
   "metadata": {},
   "outputs": [],
   "source": [
    "simulator.camera_topview()"
   ]
  },
  {
   "cell_type": "markdown",
   "id": "afce42f6",
   "metadata": {},
   "source": [
    "Here is how to get a side view:"
   ]
  },
  {
   "cell_type": "code",
   "execution_count": null,
   "id": "b37c8075",
   "metadata": {},
   "outputs": [],
   "source": [
    "simulator.camera_sideview()"
   ]
  },
  {
   "cell_type": "markdown",
   "id": "710bd58e",
   "metadata": {},
   "source": [
    "Here is how to change the yaw angle of the camera (i.e., to make the camera rotate about the point it is looking at):"
   ]
  },
  {
   "cell_type": "code",
   "execution_count": null,
   "id": "a67eb479",
   "metadata": {},
   "outputs": [],
   "source": [
    "simulator.set_camera_yaw(45)"
   ]
  },
  {
   "cell_type": "markdown",
   "id": "e589d7d4",
   "metadata": {},
   "source": [
    "Here is how to change the distance between the camera and the point it is looking at:"
   ]
  },
  {
   "cell_type": "code",
   "execution_count": null,
   "id": "85b50523",
   "metadata": {},
   "outputs": [],
   "source": [
    "simulator.set_camera_distance(1.0)"
   ]
  },
  {
   "cell_type": "markdown",
   "id": "d2d57a8e",
   "metadata": {},
   "source": [
    "### 3.x.5 Run the simulator"
   ]
  },
  {
   "cell_type": "markdown",
   "id": "ddd42bb2",
   "metadata": {},
   "source": [
    "Here is how to run the simulator for 10 seconds while saving data to the file `simulation_x_data.json` and saving video to the file `simulation_x_video.json`.\n",
    "\n",
    "If you do not need to save video and want this to run much faster, then specify `video_filename=None`."
   ]
  },
  {
   "cell_type": "code",
   "execution_count": null,
   "id": "56479d0e",
   "metadata": {},
   "outputs": [],
   "source": [
    "simulator.run(\n",
    "    max_time=10.,\n",
    "    data_filename='simulation_x_data.json',\n",
    "    video_filename='simulation_x_video.mov',\n",
    ")"
   ]
  },
  {
   "cell_type": "markdown",
   "id": "97193f26",
   "metadata": {},
   "source": [
    "Be careful! Both the data file and the video file will be overwritten if they already exist. We suggest you use a different name for each experiment."
   ]
  }
 ],
 "metadata": {
  "kernelspec": {
   "display_name": "Python 3 (ipykernel)",
   "language": "python",
   "name": "python3"
  },
  "language_info": {
   "codemirror_mode": {
    "name": "ipython",
    "version": 3
   },
   "file_extension": ".py",
   "mimetype": "text/x-python",
   "name": "python",
   "nbconvert_exporter": "python",
   "pygments_lexer": "ipython3",
   "version": "3.10.6"
  }
 },
 "nbformat": 4,
 "nbformat_minor": 5
}
