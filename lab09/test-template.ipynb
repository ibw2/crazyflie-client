{
 "cells": [
  {
   "cell_type": "markdown",
   "id": "f4233d19",
   "metadata": {},
   "source": [
    "# 1. Set up the notebook"
   ]
  },
  {
   "cell_type": "markdown",
   "id": "38bcc561",
   "metadata": {},
   "source": [
    "Import modules."
   ]
  },
  {
   "cell_type": "code",
   "execution_count": null,
   "id": "ee488f94",
   "metadata": {},
   "outputs": [],
   "source": [
    "import numpy as np\n",
    "import sympy as sym\n",
    "import json\n",
    "import matplotlib.pyplot as plt\n",
    "from scipy import linalg\n",
    "from scipy.interpolate import interp1d\n",
    "from IPython.display import display, IFrame, HTML"
   ]
  },
  {
   "cell_type": "markdown",
   "id": "db664848",
   "metadata": {},
   "source": [
    "Define a function to load data from a hardware flight test and resample it at 100 Hz using linear interpolation."
   ]
  },
  {
   "cell_type": "code",
   "execution_count": null,
   "id": "a51e9f5d",
   "metadata": {},
   "outputs": [],
   "source": [
    "def load_hardware_data(filename, t_min_offset=0, t_max_offset=0, only_in_flight=False):\n",
    "    # load raw data\n",
    "    with open(filename, 'r') as f:\n",
    "        data = json.load(f)\n",
    "\n",
    "    # convert lists to numpy arrays\n",
    "    for val in data.values():\n",
    "        for key in val.keys():\n",
    "            val[key] = np.array(val[key])\n",
    "\n",
    "    # create an array of times at which to subsample\n",
    "    t_min = -np.inf\n",
    "    t_max = np.inf\n",
    "    for key, val in data.items():\n",
    "        t_min = max(t_min, val['time'][0])\n",
    "        t_max = min(t_max, val['time'][-1])\n",
    "    t_min += t_min_offset * 1000\n",
    "    t_max -= t_max_offset * 1000\n",
    "    nt = int(1 + np.floor((t_max - t_min) / 10.))\n",
    "    t = np.arange(0, 10 * nt, 10) / 1000.\n",
    "    resampled_data = {'time': t}\n",
    "\n",
    "    # resample raw data with linear interpolation\n",
    "    for k, v in data.items():\n",
    "        f = interp1d((v['time'] - t_min) / 1000., v['data'])\n",
    "        resampled_data[k] = f(t)\n",
    "    \n",
    "    # truncate to times when o_z_des is positive\n",
    "    if only_in_flight:\n",
    "        i = []\n",
    "        for k in ['ae483log.o_z_des', 'ctrltarget.z']:\n",
    "            if k in resampled_data.keys():\n",
    "                j = np.argwhere(resampled_data[k] > 0).flatten()\n",
    "                if len(j) > len(i):\n",
    "                    i = j\n",
    "        if len(i) < 2:\n",
    "            raise Exception(\n",
    "                'Failed to get \"only_in_flight\" data.\\n' + \\\n",
    "                ' - Did you remember to log \"ae483log.o_z_des\" and was it ever positive?\\n' + \\\n",
    "                ' - Did you remember to log \"ctrltarget.z\" and was it ever positive?\\n'\n",
    "            )\n",
    "        for key in resampled_data.keys():\n",
    "            resampled_data[key] = resampled_data[key][i[0]:i[-1]]\n",
    "        \n",
    "    # return the resampled data\n",
    "    return resampled_data"
   ]
  },
  {
   "cell_type": "markdown",
   "id": "0b1f10c1",
   "metadata": {},
   "source": [
    "Define a function to compute RMSE."
   ]
  },
  {
   "cell_type": "code",
   "execution_count": null,
   "id": "c0492be0",
   "metadata": {},
   "outputs": [],
   "source": [
    "def rmse(x, y):\n",
    "    return np.sqrt(np.mean((x - y)**2))"
   ]
  },
  {
   "cell_type": "markdown",
   "id": "82e9ea70",
   "metadata": {},
   "source": [
    "Define a function to embed videos that have been uploaded to [Illinois Mediaspace](https://mediaspace.illinois.edu/)."
   ]
  },
  {
   "cell_type": "code",
   "execution_count": null,
   "id": "372fa4d3",
   "metadata": {},
   "outputs": [],
   "source": [
    "def mediaspace(url, width=640, height=397):\n",
    "    video_id = url.rsplit('/', 1)[-1]\n",
    "    src = f'https://mediaspace.illinois.edu/embed/secure/iframe/entryId/{video_id}?st=0'\n",
    "    display(IFrame(src, width=width, height=height))\n",
    "    display(HTML(f'<a href=\"{url}\" target=\"_blank\">Go to video on Illinois Mediaspace</a>'))"
   ]
  },
  {
   "cell_type": "markdown",
   "id": "11d28121",
   "metadata": {},
   "source": [
    "Define the rotation matrix $R_1^0$ as a function of the yaw angle $\\psi$, the pitch angle $\\theta$, and the roll angle $\\phi$."
   ]
  },
  {
   "cell_type": "code",
   "execution_count": null,
   "id": "4fdb8495",
   "metadata": {},
   "outputs": [],
   "source": [
    "# Define symbolic variables\n",
    "psi, theta, phi = sym.symbols('psi, theta, phi')\n",
    "\n",
    "# Define rotation about the body-fixed z axis by psi\n",
    "Rz = sym.Matrix([[sym.cos(psi), -sym.sin(psi), 0],\n",
    "                 [sym.sin(psi), sym.cos(psi), 0],\n",
    "                 [0, 0, 1]])\n",
    "\n",
    "# Define rotation about the body-fixed y axis by theta\n",
    "Ry = sym.Matrix([[sym.cos(theta), 0, sym.sin(theta)],\n",
    "                 [0, 1, 0],\n",
    "                 [-sym.sin(theta), 0, sym.cos(theta)]])\n",
    "\n",
    "# Define rotation about the body-fixed x axis by phi\n",
    "Rx = sym.Matrix([[1, 0, 0],\n",
    "                 [0, sym.cos(phi), -sym.sin(phi)],\n",
    "                 [0, sym.sin(phi), sym.cos(phi)]])\n",
    "\n",
    "# Apply sequential transformation to compute the rotation\n",
    "# matrix R_1in0 that describes the orientation of the drone\n",
    "# (i.e., of frame 1 in the coordinates of frame 0)\n",
    "R_1in0 = Rz @ Ry @ Rx\n",
    "\n",
    "# Create a function that returns R_1in0 as a numpy array\n",
    "R_1in0 = sym.lambdify((psi, theta, phi), R_1in0)\n",
    "\n",
    "# Delete variables that are no longer needed\n",
    "del psi, theta, phi, Rz, Ry, Rx"
   ]
  },
  {
   "cell_type": "markdown",
   "id": "c7c656ce",
   "metadata": {},
   "source": [
    "# 2. Flight tests to debug observer implementation"
   ]
  },
  {
   "cell_type": "markdown",
   "id": "1e5f3e53",
   "metadata": {},
   "source": [
    "## 2.1 Take-off test"
   ]
  },
  {
   "cell_type": "markdown",
   "id": "9623f445",
   "metadata": {},
   "source": [
    "**FIXME: REPLACE THIS CELL WITH THE USUAL DESCRIPTION AND VIDEO OF FLIGHT TEST.**"
   ]
  },
  {
   "cell_type": "markdown",
   "id": "b42c9f55",
   "metadata": {},
   "source": [
    "Load and parse data."
   ]
  },
  {
   "cell_type": "code",
   "execution_count": null,
   "id": "247dce58",
   "metadata": {},
   "outputs": [],
   "source": [
    "# flight test data\n",
    "data = load_hardware_data('takeoff_1_data.json', only_in_flight=False)\n",
    "\n",
    "# time\n",
    "t = data['time']\n",
    "\n",
    "# state estimates from custom observer\n",
    "o_x_custom = data['ae483log.o_x']\n",
    "o_y_custom = data['ae483log.o_y']\n",
    "o_z_custom = data['ae483log.o_z']\n",
    "psi_custom = data['ae483log.psi']\n",
    "theta_custom = data['ae483log.theta']\n",
    "phi_custom = data['ae483log.phi']\n",
    "v_x_custom = data['ae483log.v_x']\n",
    "v_y_custom = data['ae483log.v_y']\n",
    "v_z_custom = data['ae483log.v_z']\n",
    "\n",
    "# state estimates from default observer\n",
    "o_x_default = data['stateEstimate.x']\n",
    "o_y_default = data['stateEstimate.y']\n",
    "o_z_default = data['stateEstimate.z']\n",
    "psi_default = np.deg2rad(data['stateEstimate.yaw'])\n",
    "theta_default = - np.deg2rad(data['stateEstimate.pitch'])\n",
    "phi_default = np.deg2rad(data['stateEstimate.roll'])\n",
    "v_x_in0_default = data['stateEstimate.vx']\n",
    "v_y_in0_default = data['stateEstimate.vy']\n",
    "v_z_in0_default = data['stateEstimate.vz']\n",
    "\n",
    "# desired position\n",
    "o_x_des = data['ae483log.o_x_des']\n",
    "o_y_des = data['ae483log.o_y_des']\n",
    "o_z_des = data['ae483log.o_z_des']"
   ]
  },
  {
   "cell_type": "markdown",
   "id": "abf84a31",
   "metadata": {},
   "source": [
    "Convert the estimates of linear velocity that come from the default observer from the world frame (i.e., frame 0) to the body frame (i.e., frame 1) by applying the following coordinate transformation at each time step:\n",
    "\n",
    "$$v_{0, 1}^1 = \\left(R_1^0\\right)^T v_{0, 1}^0.$$\n",
    "\n",
    "This is necessary in order to compare the estimates of linear velocity that come from the default observer to the estimates of linear velocity that come from your custom observer."
   ]
  },
  {
   "cell_type": "code",
   "execution_count": null,
   "id": "4a644ca7",
   "metadata": {},
   "outputs": [],
   "source": [
    "# Create empty numpy arrays to hold the results\n",
    "v_x_default = np.empty_like(v_x_in0_default)\n",
    "v_y_default = np.empty_like(v_y_in0_default)\n",
    "v_z_default = np.empty_like(v_z_in0_default)\n",
    "\n",
    "# Apply coordinate transformation at each time step\n",
    "for i in range(0, len(t)):\n",
    "    # Get v in frame 0 at i'th time step from its components\n",
    "    v_in0 = np.array([\n",
    "        v_x_in0_default[i],\n",
    "        v_y_in0_default[i],\n",
    "        v_z_in0_default[i],\n",
    "    ])\n",
    "    \n",
    "    # Get v in frame 1 at i'th time step by coordinate transformation\n",
    "    v_in1 = R_1in0(psi_default[i], theta_default[i], phi_default[i]).T @ v_in0\n",
    "    \n",
    "    # Get components of v in frame 1 at i'th time step\n",
    "    v_x_default[i] = v_in1[0]\n",
    "    v_y_default[i] = v_in1[1]\n",
    "    v_z_default[i] = v_in1[2]"
   ]
  },
  {
   "cell_type": "markdown",
   "id": "e5a3c7b8",
   "metadata": {},
   "source": [
    "Apply offline implementation of custom observer.\n",
    "\n",
    "**FIXME: If the observer you are implementing offline (here) is different from the observer you implemented online (in firmware, to produce this flight test), then replace this cell with a description of what you changed (e.g., weights) and why.**"
   ]
  },
  {
   "cell_type": "code",
   "execution_count": null,
   "id": "2f8b8004",
   "metadata": {},
   "outputs": [],
   "source": [
    "# Define constants\n",
    "g = 9.81\n",
    "k_flow = 4.09255568\n",
    "o_z_eq = 0.0 # <-- FIXME: change equilibrium height\n",
    "dt = 0.01\n",
    "\n",
    "# Get inputs\n",
    "w_x_offline = data['ae483log.w_x']\n",
    "w_y_offline = data['ae483log.w_y']\n",
    "w_z_offline = data['ae483log.w_z']\n",
    "a_z_offline = data['ae483log.a_z']\n",
    "\n",
    "# Get outputs\n",
    "n_x_offline = data['ae483log.n_x']\n",
    "n_y_offline = data['ae483log.n_y']\n",
    "r_offline = data['ae483log.r']\n",
    "\n",
    "# Initialize estimates\n",
    "o_x = 0.\n",
    "o_y = 0.\n",
    "o_z = 0.\n",
    "psi = 0.\n",
    "theta = 0.\n",
    "phi = 0.\n",
    "v_x = 0.\n",
    "v_y = 0.\n",
    "v_z = 0.\n",
    "\n",
    "# Initialize storage (do not change)\n",
    "o_x_offline = np.zeros(len(t))\n",
    "o_y_offline = np.zeros(len(t))\n",
    "o_z_offline = np.zeros(len(t))\n",
    "psi_offline = np.zeros(len(t))\n",
    "theta_offline = np.zeros(len(t))\n",
    "phi_offline = np.zeros(len(t))\n",
    "v_x_offline = np.zeros(len(t))\n",
    "v_y_offline = np.zeros(len(t))\n",
    "v_z_offline = np.zeros(len(t))\n",
    "\n",
    "# Iterate over all time steps\n",
    "for i in range(len(t)):\n",
    "    # Get measurements (do not change)\n",
    "    w_x = w_x_offline[i]\n",
    "    w_y = w_y_offline[i]\n",
    "    w_z = w_z_offline[i]\n",
    "    a_z = a_z_offline[i]\n",
    "    n_x = n_x_offline[i]\n",
    "    n_y = n_y_offline[i]\n",
    "    r = r_offline[i]\n",
    "\n",
    "    # Compute each element of:\n",
    "    #\n",
    "    #  C x + D u - y\n",
    "    #\n",
    "    n_x_err = 0.  # <-- FIXME\n",
    "    n_y_err = 0.  # <-- FIXME\n",
    "    r_err = 0.    # <-- FIXME\n",
    "    \n",
    "    # Update estimates\n",
    "    o_x += dt * (0.)   # <-- FIXME\n",
    "    o_y += dt * (0.)   # <-- FIXME\n",
    "    o_z += dt * (0.)   # <-- FIXME\n",
    "    psi += dt * (0.)   # <-- FIXME\n",
    "    theta += dt * (0.) # <-- FIXME\n",
    "    phi += dt * (0.)   # <-- FIXME\n",
    "    v_x += dt * (0.)   # <-- FIXME\n",
    "    v_y += dt * (0.)   # <-- FIXME\n",
    "    v_z += dt * (0.)   # <-- FIXME\n",
    "\n",
    "    # Store estimates (do not change)\n",
    "    o_x_offline[i] = o_x\n",
    "    o_y_offline[i] = o_y\n",
    "    o_z_offline[i] = o_z\n",
    "    psi_offline[i] = psi\n",
    "    theta_offline[i] = theta\n",
    "    phi_offline[i] = phi\n",
    "    v_x_offline[i] = v_x\n",
    "    v_y_offline[i] = v_y\n",
    "    v_z_offline[i] = v_z"
   ]
  },
  {
   "cell_type": "markdown",
   "id": "cb163b38",
   "metadata": {},
   "source": [
    "Compare state estimates from default and custom observers."
   ]
  },
  {
   "cell_type": "code",
   "execution_count": null,
   "id": "21b46f1a",
   "metadata": {},
   "outputs": [],
   "source": [
    "def comparison_plot(t, s_custom, s_default, s_offline, name, ax, s_des=None):\n",
    "    ax.plot(t, s_custom, label=f'{name} (custom observer)', linewidth=2)\n",
    "    ax.plot(t, s_offline, '--', label=f'{name} (custom observer - offline)', linewidth=3)\n",
    "    ax.plot(t, s_default, ':', label=f'{name} (default observer)', linewidth=4)\n",
    "    if s_des is not None:\n",
    "        ax.plot(t, s_des, '-.', label=f'{name} (desired)', linewidth=2)\n",
    "    ax.legend()\n",
    "    ax.grid()\n",
    "\n",
    "fig, (ax_o_x,\n",
    "      ax_o_y,\n",
    "      ax_o_z,\n",
    "      ax_psi,\n",
    "      ax_theta,\n",
    "      ax_phi,\n",
    "      ax_v_x,\n",
    "      ax_v_y,\n",
    "      ax_v_z) = plt.subplots(9, 1, figsize=(15, 25), sharex=True)\n",
    "\n",
    "comparison_plot(t, o_x_custom, o_x_default, o_x_offline, 'o_x', ax_o_x, s_des=o_x_des)\n",
    "comparison_plot(t, o_y_custom, o_y_default, o_y_offline, 'o_y', ax_o_y, s_des=o_y_des)\n",
    "comparison_plot(t, o_z_custom, o_z_default, o_z_offline, 'o_z', ax_o_z, s_des=o_z_des)\n",
    "comparison_plot(t, psi_custom, psi_default, psi_offline, 'psi', ax_psi)\n",
    "comparison_plot(t, theta_custom, theta_default, theta_offline, 'theta', ax_theta)\n",
    "comparison_plot(t, phi_custom, phi_default, phi_offline, 'phi', ax_phi)\n",
    "comparison_plot(t, v_x_custom, v_x_default, v_x_offline, 'v_x', ax_v_x)\n",
    "comparison_plot(t, v_y_custom, v_y_default, v_y_offline, 'v_y', ax_v_y)\n",
    "comparison_plot(t, v_z_custom, v_z_default, v_z_offline, 'v_z', ax_v_z)\n",
    "ax_v_z.set_xlabel('time (s)')\n",
    "\n",
    "ax_o_x.set_ylim([-0.2, 0.2])\n",
    "ax_o_y.set_ylim([-0.2, 0.2])\n",
    "ax_o_z.set_ylim([-0.05, 0.25])\n",
    "ax_psi.set_ylim([-0.1, 0.1])\n",
    "ax_theta.set_ylim([-0.25, 0.25])\n",
    "ax_phi.set_ylim([-0.25, 0.25])\n",
    "ax_v_x.set_ylim([-0.6, 0.6])\n",
    "ax_v_y.set_ylim([-0.6, 0.6])\n",
    "ax_v_z.set_ylim([-0.5, 0.5])\n",
    "\n",
    "plt.show()"
   ]
  },
  {
   "cell_type": "markdown",
   "id": "34de016b",
   "metadata": {},
   "source": [
    "# 3. Flight tests to compare performance at hover"
   ]
  },
  {
   "cell_type": "markdown",
   "id": "ec950662",
   "metadata": {},
   "source": [
    "## 3.1 Hover with default controller and observer"
   ]
  },
  {
   "cell_type": "markdown",
   "id": "9ce42509",
   "metadata": {},
   "source": [
    "**FIXME: REPLACE THIS CELL WITH THE USUAL DESCRIPTION AND VIDEO OF FLIGHT TEST.**"
   ]
  },
  {
   "cell_type": "markdown",
   "id": "3a302be3",
   "metadata": {},
   "source": [
    "Load and parse flight test data."
   ]
  },
  {
   "cell_type": "code",
   "execution_count": null,
   "id": "2d3cf5fc",
   "metadata": {},
   "outputs": [],
   "source": [
    "# flight test data\n",
    "data = load_hardware_data('hover_1_data.json', only_in_flight=True)\n",
    "\n",
    "# times\n",
    "t = data['time']\n",
    "\n",
    "# position and orientation\n",
    "o_x_default = data['stateEstimate.x']\n",
    "o_y_default = data['stateEstimate.y']\n",
    "o_z_default = data['stateEstimate.z']\n",
    "psi_default = np.deg2rad(data['stateEstimate.yaw'])\n",
    "theta_default = -np.deg2rad(data['stateEstimate.pitch'])\n",
    "phi_default = np.deg2rad(data['stateEstimate.roll'])\n",
    "\n",
    "# desired position\n",
    "o_x_des = data['ctrltarget.x']\n",
    "o_y_des = data['ctrltarget.y']\n",
    "o_z_des = data['ctrltarget.z']"
   ]
  },
  {
   "cell_type": "markdown",
   "id": "1f302019",
   "metadata": {},
   "source": [
    "Plot position, desired position, and orientation."
   ]
  },
  {
   "cell_type": "code",
   "execution_count": null,
   "id": "e87fd6e4",
   "metadata": {},
   "outputs": [],
   "source": [
    "fig, (ax_pos, ax_ori) = plt.subplots(2, 1, figsize=(15, 8), sharex=True)\n",
    "px = ax_pos.plot(t, o_x_default, label=f'o_x')\n",
    "py = ax_pos.plot(t, o_y_default, label=f'o_y')\n",
    "pz = ax_pos.plot(t, o_z_default, label=f'o_z')\n",
    "ax_pos.plot(t, o_x_des, '--', label=f'o_x (desired)', color=px[0].get_color())\n",
    "ax_pos.plot(t, o_y_des, '--', label=f'o_y (desired)', color=py[0].get_color())\n",
    "ax_pos.plot(t, o_z_des, '--', label=f'o_z (desired)', color=pz[0].get_color())\n",
    "ax_pos.set_ylim([-0.1, 0.6])\n",
    "ax_pos.legend()\n",
    "ax_pos.grid()\n",
    "ax_ori.plot(t, psi_default, label='psi')\n",
    "ax_ori.plot(t, theta_default, label='theta')\n",
    "ax_ori.plot(t, phi_default, label='phi')\n",
    "ax_ori.set_ylim([-0.1, 0.1])\n",
    "ax_ori.legend()\n",
    "ax_ori.grid()\n",
    "ax_ori.set_xlabel('time (s)')\n",
    "ax_ori.set_xlim([0, 14])\n",
    "plt.show()"
   ]
  },
  {
   "cell_type": "markdown",
   "id": "0ba89dbd",
   "metadata": {},
   "source": [
    "Compute RMSE between states (from default observer) and their desired values **over the entire flight test**."
   ]
  },
  {
   "cell_type": "code",
   "execution_count": null,
   "id": "5941ae5e",
   "metadata": {},
   "outputs": [],
   "source": [
    "print(f'RMSE from t={t[0]} to t={t[-1]} (with targets shown at right):')\n",
    "print(f' o_x:   {rmse(o_x_default, o_x_des):7.3f}  / {0.075:7.3f}')\n",
    "print(f' o_y:   {rmse(o_y_default, o_y_des):7.3f}  / {0.075:7.3f}')\n",
    "print(f' o_z:   {rmse(o_z_default, o_z_des):7.3f}  / {0.075:7.3f}')\n",
    "print(f' psi:   {rmse(psi_default, 0.):7.3f}  / {0.05:7.3f}')\n",
    "print(f' theta: {rmse(theta_default, 0.):7.3f}  / {0.015:7.3f}')\n",
    "print(f' phi:   {rmse(phi_default, 0.):7.3f}  / {0.015:7.3f}')"
   ]
  },
  {
   "cell_type": "markdown",
   "id": "fa19f2f7",
   "metadata": {},
   "source": [
    "## 3.2 Hover with custom controller and default observer"
   ]
  },
  {
   "cell_type": "markdown",
   "id": "2c7a6c4e",
   "metadata": {},
   "source": [
    "**FIXME: REPLACE THIS CELL WITH THE USUAL DESCRIPTION AND VIDEO OF FLIGHT TEST.**"
   ]
  },
  {
   "cell_type": "markdown",
   "id": "394b2251",
   "metadata": {},
   "source": [
    "Load and parse flight test data."
   ]
  },
  {
   "cell_type": "code",
   "execution_count": null,
   "id": "6f846ce8",
   "metadata": {},
   "outputs": [],
   "source": [
    "# flight test data\n",
    "data = load_hardware_data('hover_2_data.json', only_in_flight=True)\n",
    "\n",
    "# times\n",
    "t = data['time']\n",
    "\n",
    "# position and orientation\n",
    "o_x_default = data['ae483log.o_x']\n",
    "o_y_default = data['ae483log.o_y']\n",
    "o_z_default = data['ae483log.o_z']\n",
    "psi_default = data['ae483log.psi']\n",
    "theta_default = data['ae483log.theta']\n",
    "phi_default = data['ae483log.phi']\n",
    "\n",
    "# desired position\n",
    "o_x_des = data['ae483log.o_x_des']\n",
    "o_y_des = data['ae483log.o_y_des']\n",
    "o_z_des = data['ae483log.o_z_des']"
   ]
  },
  {
   "cell_type": "markdown",
   "id": "8491017f",
   "metadata": {},
   "source": [
    "Plot position, desired position, and orientation."
   ]
  },
  {
   "cell_type": "code",
   "execution_count": null,
   "id": "9c96d126",
   "metadata": {},
   "outputs": [],
   "source": [
    "fig, (ax_pos, ax_ori) = plt.subplots(2, 1, figsize=(15, 8), sharex=True)\n",
    "px = ax_pos.plot(t, o_x_default, label=f'o_x')\n",
    "py = ax_pos.plot(t, o_y_default, label=f'o_y')\n",
    "pz = ax_pos.plot(t, o_z_default, label=f'o_z')\n",
    "ax_pos.plot(t, o_x_des, '--', label=f'o_x (desired)', color=px[0].get_color())\n",
    "ax_pos.plot(t, o_y_des, '--', label=f'o_y (desired)', color=py[0].get_color())\n",
    "ax_pos.plot(t, o_z_des, '--', label=f'o_z (desired)', color=pz[0].get_color())\n",
    "ax_pos.set_ylim([-0.1, 0.6])\n",
    "ax_pos.legend()\n",
    "ax_pos.grid()\n",
    "ax_ori.plot(t, psi_default, label='psi')\n",
    "ax_ori.plot(t, theta_default, label='theta')\n",
    "ax_ori.plot(t, phi_default, label='phi')\n",
    "ax_ori.set_ylim([-0.1, 0.1])\n",
    "ax_ori.legend()\n",
    "ax_ori.grid()\n",
    "ax_ori.set_xlabel('time (s)')\n",
    "ax_ori.set_xlim([0, 14])\n",
    "plt.show()"
   ]
  },
  {
   "cell_type": "markdown",
   "id": "7b575259",
   "metadata": {},
   "source": [
    "Compute RMSE between states (from default observer) and their desired values **over the entire flight test**."
   ]
  },
  {
   "cell_type": "code",
   "execution_count": null,
   "id": "75e89bfe",
   "metadata": {},
   "outputs": [],
   "source": [
    "print(f'RMSE from t={t[0]} to t={t[-1]} (with targets shown at right):')\n",
    "print(f' o_x:   {rmse(o_x_default, o_x_des):7.3f}  / {0.075:7.3f}')\n",
    "print(f' o_y:   {rmse(o_y_default, o_y_des):7.3f}  / {0.075:7.3f}')\n",
    "print(f' o_z:   {rmse(o_z_default, o_z_des):7.3f}  / {0.075:7.3f}')\n",
    "print(f' psi:   {rmse(psi_default, 0.):7.3f}  / {0.05:7.3f}')\n",
    "print(f' theta: {rmse(theta_default, 0.):7.3f}  / {0.015:7.3f}')\n",
    "print(f' phi:   {rmse(phi_default, 0.):7.3f}  / {0.015:7.3f}')"
   ]
  },
  {
   "cell_type": "markdown",
   "id": "cce88051",
   "metadata": {},
   "source": [
    "## 3.3 Hover with custom controller and observer"
   ]
  },
  {
   "cell_type": "markdown",
   "id": "a2c8e6e0",
   "metadata": {},
   "source": [
    "**FIXME: REPLACE THIS CELL WITH THE USUAL DESCRIPTION AND VIDEO OF FLIGHT TEST.**"
   ]
  },
  {
   "cell_type": "markdown",
   "id": "3e654285",
   "metadata": {},
   "source": [
    "Load and parse flight test data."
   ]
  },
  {
   "cell_type": "code",
   "execution_count": null,
   "id": "1e0a975c",
   "metadata": {},
   "outputs": [],
   "source": [
    "# flight test data\n",
    "data = load_hardware_data('hover_3_data.json', only_in_flight=True)\n",
    "\n",
    "# times\n",
    "t = data['time']\n",
    "\n",
    "# position and orientation from default observer\n",
    "o_x_default = data['stateEstimate.x']\n",
    "o_y_default = data['stateEstimate.y']\n",
    "o_z_default = data['stateEstimate.z']\n",
    "psi_default = np.deg2rad(data['stateEstimate.yaw'])\n",
    "theta_default = -np.deg2rad(data['stateEstimate.pitch'])\n",
    "phi_default = np.deg2rad(data['stateEstimate.roll'])\n",
    "\n",
    "# position and orientation from custom observer\n",
    "o_x_custom = data['ae483log.o_x']\n",
    "o_y_custom = data['ae483log.o_y']\n",
    "o_z_custom = data['ae483log.o_z']\n",
    "psi_custom = data['ae483log.psi']\n",
    "theta_custom = data['ae483log.theta']\n",
    "phi_custom = data['ae483log.phi']\n",
    "\n",
    "# desired position\n",
    "o_x_des = data['ae483log.o_x_des']\n",
    "o_y_des = data['ae483log.o_y_des']\n",
    "o_z_des = data['ae483log.o_z_des']"
   ]
  },
  {
   "cell_type": "markdown",
   "id": "cec524b1",
   "metadata": {},
   "source": [
    "Plot position, desired position, and orientation (both from default and custom observer) **over the entire flight test**."
   ]
  },
  {
   "cell_type": "code",
   "execution_count": null,
   "id": "e00e2797",
   "metadata": {},
   "outputs": [],
   "source": [
    "fig, (ax_pos, ax_ori) = plt.subplots(2, 1, figsize=(15, 8), sharex=True)\n",
    "px = ax_pos.plot(t, o_x_custom, label=f'o_x (custom observer)')\n",
    "py = ax_pos.plot(t, o_y_custom, label=f'o_y (custom observer)')\n",
    "pz = ax_pos.plot(t, o_z_custom, label=f'o_z (custom observer)')\n",
    "ax_pos.plot(t, o_x_default, ':', label=f'o_x (default observer)', color=px[0].get_color(), linewidth=4)\n",
    "ax_pos.plot(t, o_y_default, ':', label=f'o_y (default observer)', color=py[0].get_color(), linewidth=4)\n",
    "ax_pos.plot(t, o_z_default, ':', label=f'o_z (default observer)', color=pz[0].get_color(), linewidth=4)\n",
    "ax_pos.plot(t, o_x_des, '--', label=f'o_x (desired)', color=px[0].get_color())\n",
    "ax_pos.plot(t, o_y_des, '--', label=f'o_y (desired)', color=py[0].get_color())\n",
    "ax_pos.plot(t, o_z_des, '--', label=f'o_z (desired)', color=pz[0].get_color())\n",
    "ax_pos.set_ylim([-0.1, 0.6])\n",
    "ax_pos.legend()\n",
    "ax_pos.grid()\n",
    "ppsi = ax_ori.plot(t, psi_custom, label=f'psi (custom observer)')\n",
    "ptheta = ax_ori.plot(t, theta_custom, label=f'theta (custom observer)')\n",
    "pphi = ax_ori.plot(t, phi_custom, label=f'phi (custom observer)')\n",
    "ax_ori.plot(t, psi_default, ':', label=f'psi (default observer)', color=ppsi[0].get_color(), linewidth=4)\n",
    "ax_ori.plot(t, theta_default, ':', label=f'theta (default observer)', color=ptheta[0].get_color(), linewidth=4)\n",
    "ax_ori.plot(t, phi_default, ':', label=f'phi (default observer)', color=pphi[0].get_color(), linewidth=4)\n",
    "ax_ori.set_ylim([-0.1, 0.1])\n",
    "ax_ori.legend()\n",
    "ax_ori.grid()\n",
    "ax_ori.set_xlabel('time (s)')\n",
    "ax_ori.set_xlim([0, 14])\n",
    "plt.show()"
   ]
  },
  {
   "cell_type": "markdown",
   "id": "a9e9b940",
   "metadata": {},
   "source": [
    "Compute RMSE between states (from custom observer) and their desired values."
   ]
  },
  {
   "cell_type": "code",
   "execution_count": null,
   "id": "8381ac8c",
   "metadata": {},
   "outputs": [],
   "source": [
    "print(f'RMSE from t={t[0]} to t={t[-1]} (with targets shown at right):')\n",
    "print(f' o_x:   {rmse(o_x_custom, o_x_des):7.3f}  / {0.075:7.3f}')\n",
    "print(f' o_y:   {rmse(o_y_custom, o_y_des):7.3f}  / {0.075:7.3f}')\n",
    "print(f' o_z:   {rmse(o_z_custom, o_z_des):7.3f}  / {0.075:7.3f}')\n",
    "print(f' psi:   {rmse(psi_custom, 0.):7.3f}  / {0.05:7.3f}')\n",
    "print(f' theta: {rmse(theta_custom, 0.):7.3f}  / {0.015:7.3f}')\n",
    "print(f' phi:   {rmse(phi_custom, 0.):7.3f}  / {0.015:7.3f}')"
   ]
  },
  {
   "cell_type": "markdown",
   "id": "60f470a2",
   "metadata": {},
   "source": [
    "## 3.4 Summary and discussion"
   ]
  },
  {
   "cell_type": "markdown",
   "id": "9e2560b6",
   "metadata": {},
   "source": [
    "The following table reports the RMSE in each component of position and of orientation:\n",
    "\n",
    "|  | $o_x$ | $o_y$ | $o_z$ | $\\psi$ | $\\theta$ | $\\phi$ |\n",
    "| --: | :--: | :--: | :--: | :--: | :--: | :--: |\n",
    "| RMSE in hover test (default controller, default observer) | 0.0 | 0.0 | 0.0 | 0.0 | 0.0 | 0.0 |\n",
    "| RMSE in hover test (custom controller, default observer) | 0.0 | 0.0 | 0.0 | 0.0 | 0.0 | 0.0 |\n",
    "| RMSE in move test (custom controller, custom observer) | 0.0 | 0.0 | 0.0 | 0.0 | 0.0 | 0.0 |"
   ]
  },
  {
   "cell_type": "markdown",
   "id": "026e307a",
   "metadata": {},
   "source": [
    "**Modify the text in this cell** to answer the following questions:\n",
    "\n",
    "* Are you able to match the performance of the default controller and observer (top row) with your controller and observer (bottom row)? Do the results when using the custom controller with the default observer (middle row) help explain any differences in performance?\n",
    "* What about your observer design (if anything) did you have to change in order to get your custom controller and observer to work well? Why were these changes necessary?"
   ]
  },
  {
   "cell_type": "markdown",
   "id": "3258c8c1",
   "metadata": {},
   "source": [
    "# 4. Flight test while moving in squares"
   ]
  },
  {
   "cell_type": "markdown",
   "id": "74cc4dd7",
   "metadata": {},
   "source": [
    "**FIXME: REPLACE THIS CELL WITH THE USUAL DESCRIPTION AND VIDEO OF FLIGHT TEST.**"
   ]
  },
  {
   "cell_type": "markdown",
   "id": "0df36892",
   "metadata": {},
   "source": [
    "Load and parse flight test data."
   ]
  },
  {
   "cell_type": "code",
   "execution_count": null,
   "id": "8c9dd941",
   "metadata": {},
   "outputs": [],
   "source": [
    "# flight test data\n",
    "data = load_hardware_data('move_data.json', only_in_flight=True)\n",
    "\n",
    "# times\n",
    "t = data['time']\n",
    "\n",
    "# position and orientation from default observer\n",
    "o_x_default = data['stateEstimate.x']\n",
    "o_y_default = data['stateEstimate.y']\n",
    "o_z_default = data['stateEstimate.z']\n",
    "psi_default = np.deg2rad(data['stateEstimate.yaw'])\n",
    "theta_default = -np.deg2rad(data['stateEstimate.pitch'])\n",
    "phi_default = np.deg2rad(data['stateEstimate.roll'])\n",
    "\n",
    "# position and orientation from custom observer\n",
    "o_x_custom = data['ae483log.o_x']\n",
    "o_y_custom = data['ae483log.o_y']\n",
    "o_z_custom = data['ae483log.o_z']\n",
    "psi_custom = data['ae483log.psi']\n",
    "theta_custom = data['ae483log.theta']\n",
    "phi_custom = data['ae483log.phi']\n",
    "\n",
    "# desired position\n",
    "o_x_des = data['ae483log.o_x_des']\n",
    "o_y_des = data['ae483log.o_y_des']\n",
    "o_z_des = data['ae483log.o_z_des']"
   ]
  },
  {
   "cell_type": "markdown",
   "id": "f2363cd0",
   "metadata": {},
   "source": [
    "Plot position, desired position, and orientation (both from default and custom observer) **over the entire flight test**."
   ]
  },
  {
   "cell_type": "code",
   "execution_count": null,
   "id": "bf743398",
   "metadata": {},
   "outputs": [],
   "source": [
    "fig, (ax_pos, ax_ori) = plt.subplots(2, 1, figsize=(15, 8), sharex=True)\n",
    "px = ax_pos.plot(t, o_x_custom, label=f'o_x (custom observer)')\n",
    "py = ax_pos.plot(t, o_y_custom, label=f'o_y (custom observer)')\n",
    "pz = ax_pos.plot(t, o_z_custom, label=f'o_z (custom observer)')\n",
    "ax_pos.plot(t, o_x_default, ':', label=f'o_x (default observer)', color=px[0].get_color(), linewidth=4)\n",
    "ax_pos.plot(t, o_y_default, ':', label=f'o_y (default observer)', color=py[0].get_color(), linewidth=4)\n",
    "ax_pos.plot(t, o_z_default, ':', label=f'o_z (default observer)', color=pz[0].get_color(), linewidth=4)\n",
    "ax_pos.plot(t, o_x_des, '--', label=f'o_x (desired)', color=px[0].get_color())\n",
    "ax_pos.plot(t, o_y_des, '--', label=f'o_y (desired)', color=py[0].get_color())\n",
    "ax_pos.plot(t, o_z_des, '--', label=f'o_z (desired)', color=pz[0].get_color())\n",
    "ax_pos.legend()\n",
    "ax_pos.grid()\n",
    "ppsi = ax_ori.plot(t, psi_custom, label=f'psi (custom observer)')\n",
    "ptheta = ax_ori.plot(t, theta_custom, label=f'theta (custom observer)')\n",
    "pphi = ax_ori.plot(t, phi_custom, label=f'phi (custom observer)')\n",
    "ax_ori.plot(t, psi_default, ':', label=f'psi (default observer)', color=ppsi[0].get_color(), linewidth=4)\n",
    "ax_ori.plot(t, theta_default, ':', label=f'theta (default observer)', color=ptheta[0].get_color(), linewidth=4)\n",
    "ax_ori.plot(t, phi_default, ':', label=f'phi (default observer)', color=pphi[0].get_color(), linewidth=4)\n",
    "ax_ori.legend()\n",
    "ax_ori.grid()\n",
    "ax_ori.set_xlabel('time (s)')\n",
    "plt.show()"
   ]
  },
  {
   "cell_type": "markdown",
   "id": "c782b656",
   "metadata": {},
   "source": [
    "Plot top-down position and desired position (both from default and custom observer)."
   ]
  },
  {
   "cell_type": "code",
   "execution_count": null,
   "id": "3b36050e",
   "metadata": {},
   "outputs": [],
   "source": [
    "plt.figure(figsize=(10, 10))\n",
    "plt.plot(o_x_custom, o_y_custom, label='position (custom observer)')\n",
    "plt.plot(o_x_default, o_y_default, ':', label='position (default observer)', linewidth=4)\n",
    "plt.plot(o_x_des, o_y_des, '--', label='desired position')\n",
    "plt.axis('equal')\n",
    "plt.legend()\n",
    "plt.grid()\n",
    "plt.show()"
   ]
  },
  {
   "cell_type": "markdown",
   "id": "3dfc89c4",
   "metadata": {},
   "source": [
    "**FIXME: REPLACE THIS CELL WITH A DISCUSSION OF RESULTS.**\n",
    "\n",
    "First, fill in the following table:\n",
    "\n",
    "| | $o_x$ (meters) | $o_y$ (meters) |\n",
    "| ---: | :---: | :---: |\n",
    "| landing position (measured by ruler) | 0.000 | 0.000 |\n",
    "| landing position (from custom observer) | 0.000 | 0.000 |\n",
    "| landing position (from default observer) | 0.000 | 0.000 |\n",
    "\n",
    "Then, answer the following questions:\n",
    "\n",
    "* Last week, you may have noticed that position estimates from the default observer appeared \"good\" and position estimates from the custom observer appeared \"bad\". This week, you may have noticed the opposite. What is going on here? Which state estimates are correct? (Are *any* of them correct?) Like last week, you will want to compare the landing position that you measured with a ruler to the final position that was estimated by each observer, and will also want to think about which states are observable (and about what that means).\n",
    "* To what extent does your code enable the drone to track a desired position? It may help to look at the top-down plot when answering this question. Are there ways you could improve tracking performance?"
   ]
  }
 ],
 "metadata": {
  "kernelspec": {
   "display_name": "Python 3 (ipykernel)",
   "language": "python",
   "name": "python3"
  },
  "language_info": {
   "codemirror_mode": {
    "name": "ipython",
    "version": 3
   },
   "file_extension": ".py",
   "mimetype": "text/x-python",
   "name": "python",
   "nbconvert_exporter": "python",
   "pygments_lexer": "ipython3",
   "version": "3.10.6"
  }
 },
 "nbformat": 4,
 "nbformat_minor": 5
}
