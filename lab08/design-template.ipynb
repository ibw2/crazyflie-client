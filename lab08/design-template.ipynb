{
 "cells": [
  {
   "cell_type": "markdown",
   "id": "f4233d19",
   "metadata": {},
   "source": [
    "# 1. Set up the notebook"
   ]
  },
  {
   "cell_type": "markdown",
   "id": "38bcc561",
   "metadata": {},
   "source": [
    "Import modules."
   ]
  },
  {
   "cell_type": "code",
   "execution_count": null,
   "id": "ee488f94",
   "metadata": {},
   "outputs": [],
   "source": [
    "import numpy as np\n",
    "import sympy as sym\n",
    "import json\n",
    "import matplotlib.pyplot as plt\n",
    "from scipy import linalg\n",
    "from scipy.interpolate import interp1d\n",
    "from IPython.display import display, IFrame, HTML"
   ]
  },
  {
   "cell_type": "markdown",
   "id": "db664848",
   "metadata": {},
   "source": [
    "Define a function to load data from a hardware flight test and resample it at 100 Hz using linear interpolation."
   ]
  },
  {
   "cell_type": "code",
   "execution_count": null,
   "id": "a51e9f5d",
   "metadata": {},
   "outputs": [],
   "source": [
    "def load_hardware_data(filename, t_min_offset=0, t_max_offset=0, only_in_flight=False):\n",
    "    # load raw data\n",
    "    with open(filename, 'r') as f:\n",
    "        data = json.load(f)\n",
    "\n",
    "    # convert lists to numpy arrays\n",
    "    for val in data.values():\n",
    "        for key in val.keys():\n",
    "            val[key] = np.array(val[key])\n",
    "\n",
    "    # create an array of times at which to subsample\n",
    "    t_min = -np.inf\n",
    "    t_max = np.inf\n",
    "    for key, val in data.items():\n",
    "        t_min = max(t_min, val['time'][0])\n",
    "        t_max = min(t_max, val['time'][-1])\n",
    "    t_min += t_min_offset * 1000\n",
    "    t_max -= t_max_offset * 1000\n",
    "    nt = int(1 + np.floor((t_max - t_min) / 10.))\n",
    "    t = np.arange(0, 10 * nt, 10) / 1000.\n",
    "    resampled_data = {'time': t}\n",
    "\n",
    "    # resample raw data with linear interpolation\n",
    "    for k, v in data.items():\n",
    "        f = interp1d((v['time'] - t_min) / 1000., v['data'])\n",
    "        resampled_data[k] = f(t)\n",
    "    \n",
    "    # truncate to times when o_z_des is positive\n",
    "    if only_in_flight:\n",
    "        i = []\n",
    "        for k in ['ae483log.o_z_des', 'ctrltarget.z']:\n",
    "            if k in resampled_data.keys():\n",
    "                j = np.argwhere(resampled_data[k] > 0).flatten()\n",
    "                if len(j) > len(i):\n",
    "                    i = j\n",
    "        if len(i) < 2:\n",
    "            raise Exception(\n",
    "                'Failed to get \"only_in_flight\" data.\\n' + \\\n",
    "                ' - Did you remember to log \"ae483log.o_z_des\" and was it ever positive?\\n' + \\\n",
    "                ' - Did you remember to log \"ctrltarget.z\" and was it ever positive?\\n'\n",
    "            )\n",
    "        for key in resampled_data.keys():\n",
    "            resampled_data[key] = resampled_data[key][i[0]:i[-1]]\n",
    "        \n",
    "    # return the resampled data\n",
    "    return resampled_data"
   ]
  },
  {
   "cell_type": "markdown",
   "id": "54595de9",
   "metadata": {},
   "source": [
    "Define a function to solve the linear quadratic regulator (LQR) problem - i.e., that finds the matrix $K$ for which\n",
    "\n",
    "$$u(t) = - K x(t)$$\n",
    "\n",
    "is the optimal solution to\n",
    "\n",
    "$$\n",
    "\\begin{align*}\n",
    "\\underset{u_{[t_{0}, \\infty)}}{\\text{minimize}} &\\qquad \\int_{t_{0}}^{\\infty}\\left( x(t)^{T}Qx(t)+u(t)^{T}Ru(t)\\right)dt \\\\\n",
    "\\text{subject to} &\\qquad \\dot{x}(t) = Ax(t)+Bu(t), \\quad x(t_{0})=x_{0}.\n",
    "\\end{align*}\n",
    "$$"
   ]
  },
  {
   "cell_type": "code",
   "execution_count": null,
   "id": "76ef860b",
   "metadata": {},
   "outputs": [],
   "source": [
    "def lqr(A, B, Q, R):\n",
    "    P = linalg.solve_continuous_are(A, B, Q, R)\n",
    "    K = linalg.inv(R) @  B.T @ P\n",
    "    return K"
   ]
  },
  {
   "cell_type": "markdown",
   "id": "8e405603",
   "metadata": {},
   "source": [
    "Define a function to create the observability matrix\n",
    "\n",
    "$$ W_o = \\begin{bmatrix} C \\\\ CA \\\\ CA^2 \\\\ \\vdots \\\\ CA^{n-1} \\end{bmatrix} $$\n",
    "\n",
    "where $A$ has size $n \\times n$."
   ]
  },
  {
   "cell_type": "code",
   "execution_count": null,
   "id": "016cb8b3",
   "metadata": {},
   "outputs": [],
   "source": [
    "def obsv(A, C):\n",
    "    W = C\n",
    "    for i in range(1, A.shape[0]):\n",
    "        W = np.vstack([W, C @ np.linalg.matrix_power(A, i)])\n",
    "    return W"
   ]
  },
  {
   "cell_type": "markdown",
   "id": "82e9ea70",
   "metadata": {},
   "source": [
    "Define a function to embed videos that have been uploaded to [Illinois Mediaspace](https://mediaspace.illinois.edu/)."
   ]
  },
  {
   "cell_type": "code",
   "execution_count": null,
   "id": "372fa4d3",
   "metadata": {},
   "outputs": [],
   "source": [
    "def mediaspace(url, width=640, height=397):\n",
    "    video_id = url.rsplit('/', 1)[-1]\n",
    "    src = f'https://mediaspace.illinois.edu/embed/secure/iframe/entryId/{video_id}?st=0'\n",
    "    display(IFrame(src, width=width, height=height))\n",
    "    display(HTML(f'<a href=\"{url}\" target=\"_blank\">Go to video on Illinois Mediaspace</a>'))"
   ]
  },
  {
   "cell_type": "markdown",
   "id": "de776b07",
   "metadata": {},
   "source": [
    "# 2. Design observer"
   ]
  },
  {
   "cell_type": "markdown",
   "id": "a0bef80d",
   "metadata": {},
   "source": [
    "## 2.1 Define state-space model"
   ]
  },
  {
   "cell_type": "markdown",
   "id": "d1d886d9",
   "metadata": {},
   "source": [
    "Here are the matrices that describe the state-space model\n",
    "\n",
    "$$\\begin{align*} \\dot{x} &= Ax + Bu \\\\ y &= Cx + Bu \\end{align*}$$\n",
    "\n",
    "that was derived in Lab 7 (copy/pasted from that week's analysis notebook)."
   ]
  },
  {
   "cell_type": "code",
   "execution_count": null,
   "id": "9fce4684",
   "metadata": {},
   "outputs": [],
   "source": [
    "# FIXME (copy/paste definition of A, B, C, D)\n",
    "\n"
   ]
  },
  {
   "cell_type": "markdown",
   "id": "e330e2d9",
   "metadata": {},
   "source": [
    "## 2.2 Show that not all states are observable"
   ]
  },
  {
   "cell_type": "markdown",
   "id": "3e0d1103",
   "metadata": {},
   "source": [
    "Find the observability matrix\n",
    "\n",
    "$$ W_o = \\begin{bmatrix} C \\\\ CA \\\\ CA^2 \\\\ \\vdots \\\\ CA^{n-1} \\end{bmatrix} $$\n",
    "\n",
    "where $A$ is $n \\times n$."
   ]
  },
  {
   "cell_type": "code",
   "execution_count": null,
   "id": "c3703ea7",
   "metadata": {},
   "outputs": [],
   "source": [
    "W_o = obsv(A, C)"
   ]
  },
  {
   "cell_type": "markdown",
   "id": "5ec003bd",
   "metadata": {},
   "source": [
    "Find the rank of the observability matrix using [numpy.linalg.matrix_rank](https://numpy.org/doc/stable/reference/generated/numpy.linalg.matrix_rank.html). The system is **observable** if and only if $W_o$ is **full rank**, that is, if its rank is equal to the number of states $n$."
   ]
  },
  {
   "cell_type": "code",
   "execution_count": null,
   "id": "914087a7",
   "metadata": {},
   "outputs": [],
   "source": [
    "print(f'      rank of W_o is: {np.linalg.matrix_rank(W_o)}')\n",
    "print(f'\"full rank\" would be: {A.shape[0]}')"
   ]
  },
  {
   "cell_type": "markdown",
   "id": "acd8e43b",
   "metadata": {},
   "source": [
    "If the system is *not* observable, then it is impossible to design a stable observer - that is, an observer that makes the error in your estimate of each state converge to zero over time.\n",
    "\n",
    "In particular, the following code would produce an error if you tried to use it:\n",
    "```python\n",
    "# Choose weights\n",
    "Q = np.eye(3) # <-- one diagonal entry for each output\n",
    "R = np.eye(9) # <-- one diagonal entry for each state\n",
    "\n",
    "# Find gain matrix\n",
    "L = lqr(A.T, C.T, linalg.inv(R), linalg.inv(Q)).T\n",
    "```\n",
    "It does not matter what method you use - if it is impossible to design a stable observer, that's it, you're out of luck!"
   ]
  },
  {
   "cell_type": "markdown",
   "id": "a680c59a",
   "metadata": {},
   "source": [
    "## 2.3 Choose a subset of states that are observable"
   ]
  },
  {
   "cell_type": "markdown",
   "id": "b76f5699",
   "metadata": {},
   "source": [
    "List the index of each state to include."
   ]
  },
  {
   "cell_type": "code",
   "execution_count": null,
   "id": "ee960ec7",
   "metadata": {},
   "outputs": [],
   "source": [
    "# FIXME: delete the index of each state that is not observable!\n",
    "\n",
    "s_obs_index = [\n",
    "    0, # o_x\n",
    "    1, # o_y\n",
    "    2, # o_z\n",
    "    3, # psi\n",
    "    4, # theta\n",
    "    5, # phi\n",
    "    6, # v_x\n",
    "    7, # v_y\n",
    "    8, # v_z\n",
    "]"
   ]
  },
  {
   "cell_type": "markdown",
   "id": "4df5a7d2",
   "metadata": {},
   "source": [
    "Define a state-space model\n",
    "\n",
    "$$\n",
    "\\begin{align*}\n",
    "\\dot{x}_\\text{obs} = A_\\text{obs} x_\\text{obs} + B_\\text{obs} u \\\\\n",
    "y = C_\\text{obs} x_\\text{obs} + D_\\text{obs} u\n",
    "\\end{align*}\n",
    "$$\n",
    "\n",
    "with only these states."
   ]
  },
  {
   "cell_type": "code",
   "execution_count": null,
   "id": "dca054b2",
   "metadata": {},
   "outputs": [],
   "source": [
    "A_obs = A[s_obs_index, :][:, s_obs_index]\n",
    "B_obs = B[s_obs_index, :]\n",
    "C_obs = C[:, s_obs_index]\n",
    "D_obs = D"
   ]
  },
  {
   "cell_type": "markdown",
   "id": "cd8e00c4",
   "metadata": {},
   "source": [
    "Show the matrices that describe this state-space model."
   ]
  },
  {
   "cell_type": "code",
   "execution_count": null,
   "id": "7f68c257",
   "metadata": {},
   "outputs": [],
   "source": [
    "print(f'A_obs:\\n{A_obs}\\n')\n",
    "print(f'B_obs:\\n{B_obs}\\n')\n",
    "print(f'C_obs:\\n{C_obs}\\n')\n",
    "print(f'D_obs:\\n{D_obs}\\n')"
   ]
  },
  {
   "cell_type": "markdown",
   "id": "d65e5a07",
   "metadata": {},
   "source": [
    "Check that this subsystem is observable:"
   ]
  },
  {
   "cell_type": "code",
   "execution_count": null,
   "id": "c8eb4fc9",
   "metadata": {},
   "outputs": [],
   "source": [
    "print(f'      rank of W_o is: {np.linalg.matrix_rank(obsv(A_obs, C_obs))}')\n",
    "print(f'\"full rank\" would be: {A_obs.shape[0]}')"
   ]
  },
  {
   "cell_type": "markdown",
   "id": "d077b986",
   "metadata": {},
   "source": [
    "## 2.4 Choose gain matrix for the observable subsystem"
   ]
  },
  {
   "cell_type": "markdown",
   "id": "c8d7e724",
   "metadata": {},
   "source": [
    "### 2.4.1 With equal weights"
   ]
  },
  {
   "cell_type": "markdown",
   "id": "4af1b997",
   "metadata": {},
   "source": [
    "Choose weights $Q$ and $R$ as identity matrices."
   ]
  },
  {
   "cell_type": "code",
   "execution_count": null,
   "id": "0f819672",
   "metadata": {},
   "outputs": [],
   "source": [
    "# FIXME: change the size of each identity matrix to match the\n",
    "# number of states and outputs for your observable subsystem\n",
    "\n",
    "Q = np.eye(3) # <-- one diagonal entry for each output\n",
    "R = np.eye(9) # <-- one diagonal entry for each state"
   ]
  },
  {
   "cell_type": "markdown",
   "id": "db06a314",
   "metadata": {},
   "source": [
    "Find gain matrix $L$ for the chosen $Q$ and $R$ by solving an LQR problem."
   ]
  },
  {
   "cell_type": "code",
   "execution_count": null,
   "id": "c0f4ebcf",
   "metadata": {},
   "outputs": [],
   "source": [
    "L = lqr(A_obs.T, C_obs.T, linalg.inv(R), linalg.inv(Q)).T"
   ]
  },
  {
   "cell_type": "markdown",
   "id": "ba15a210",
   "metadata": {},
   "source": [
    "Show $L$ (formatted nicely)."
   ]
  },
  {
   "cell_type": "code",
   "execution_count": null,
   "id": "80e2eef8",
   "metadata": {},
   "outputs": [],
   "source": [
    "L_str = np.array2string(L,\n",
    "                        formatter={'float_kind': lambda x: f'{x:12.6f}'},\n",
    "                        prefix='    ',\n",
    "                        max_line_width=np.inf)\n",
    "\n",
    "print(f'L = {L_str}')"
   ]
  },
  {
   "cell_type": "markdown",
   "id": "0639b66e",
   "metadata": {},
   "source": [
    "### 2.4.2 With weights chosen by model error variance"
   ]
  },
  {
   "cell_type": "markdown",
   "id": "214aa444",
   "metadata": {},
   "source": [
    "Choose weights $Q$ and $R$ based on variance of model error."
   ]
  },
  {
   "cell_type": "code",
   "execution_count": null,
   "id": "32dcb358",
   "metadata": {},
   "outputs": [],
   "source": [
    "# FIXME:\n",
    "#\n",
    "# (1) Change the size of each matrix to match the number of\n",
    "#     states and outputs for your observable subsystem\n",
    "#\n",
    "# (2) Change the value of each diagonal entry based on your\n",
    "#     results from Lab 7.\n",
    "\n",
    "Q = np.diag([\n",
    "    1.,             # n_x\n",
    "    1.,             # n_y\n",
    "    1.,             # r\n",
    "])\n",
    "\n",
    "R = np.diag([\n",
    "    1., # o_x\n",
    "    1., # o_y\n",
    "    1., # o_z\n",
    "    1., # psi\n",
    "    1., # theta\n",
    "    1., # phi\n",
    "    1., # v_x\n",
    "    1., # v_y\n",
    "    1., # v_z\n",
    "])"
   ]
  },
  {
   "cell_type": "markdown",
   "id": "d5b82978",
   "metadata": {},
   "source": [
    "Find gain matrix $L$ for the chosen $Q$ and $R$ by solving an LQR problem."
   ]
  },
  {
   "cell_type": "code",
   "execution_count": null,
   "id": "4ef558c3",
   "metadata": {},
   "outputs": [],
   "source": [
    "L = lqr(A_obs.T, C_obs.T, linalg.inv(R), linalg.inv(Q)).T"
   ]
  },
  {
   "cell_type": "markdown",
   "id": "0ed26d7b",
   "metadata": {},
   "source": [
    "Show $L$ (formatted nicely)."
   ]
  },
  {
   "cell_type": "code",
   "execution_count": null,
   "id": "b20a87e4",
   "metadata": {},
   "outputs": [],
   "source": [
    "L_str = np.array2string(L,\n",
    "                        formatter={'float_kind': lambda x: f'{x:12.6f}'},\n",
    "                        prefix='    ',\n",
    "                        max_line_width=np.inf)\n",
    "\n",
    "print(f'L = {L_str}')"
   ]
  },
  {
   "cell_type": "markdown",
   "id": "d12e67ad",
   "metadata": {},
   "source": [
    "# 3. Implement and test observer (offline)"
   ]
  },
  {
   "cell_type": "markdown",
   "id": "8149f14c",
   "metadata": {},
   "source": [
    "## 3.1 Do a flight test"
   ]
  },
  {
   "cell_type": "markdown",
   "id": "04a75ca9",
   "metadata": {},
   "source": [
    "#### Describe the flight test"
   ]
  },
  {
   "cell_type": "markdown",
   "id": "01ad6abf",
   "metadata": {},
   "source": [
    "Replace this cell with the following information, at minimum:\n",
    "\n",
    "* A description of the flight trajectory, both in words and (if you like) a snippet of code from `flight.py`.\n",
    "* A description of the flight conditions (e.g., where was the flight conducted, did you power cycle the drone just before flying, were you using the positioning system or only the onboard sensors, etc.).\n",
    "\n",
    "Also fill in the following table, which describes the point at which the drone landed, as measured with a ruler:\n",
    "\n",
    "| | $o_x$ (meters) | $o_y$ (meters) |\n",
    "| ---: | :---: | :---: |\n",
    "| landing position | 1.000 | 2.000 |"
   ]
  },
  {
   "cell_type": "markdown",
   "id": "c5f8e3cf",
   "metadata": {},
   "source": [
    "#### Show a video of the flight test"
   ]
  },
  {
   "cell_type": "markdown",
   "id": "60d73c65",
   "metadata": {},
   "source": [
    "In the following cell, show a video of your hardware flight test (change the url as appropriate)."
   ]
  },
  {
   "cell_type": "code",
   "execution_count": null,
   "id": "81fef502",
   "metadata": {},
   "outputs": [],
   "source": [
    "# FIXME (REPLACE URL TO SHOW A VIDEO OF YOUR FLIGHT)\n",
    "mediaspace('https://mediaspace.illinois.edu/media/t/YOUR_VIDEO_ID')"
   ]
  },
  {
   "cell_type": "markdown",
   "id": "f7117dee",
   "metadata": {},
   "source": [
    "## 3.2 Load and parse data from flight test"
   ]
  },
  {
   "cell_type": "markdown",
   "id": "dfa1cf7e",
   "metadata": {},
   "source": [
    "Load flight test data."
   ]
  },
  {
   "cell_type": "code",
   "execution_count": null,
   "id": "f4d51def",
   "metadata": {},
   "outputs": [],
   "source": [
    "data = load_hardware_data(\n",
    "    'hardware_data.json',   # <-- FIXME: replace with name of file with data\n",
    "    t_min_offset=0.,\n",
    "    t_max_offset=0.,\n",
    "    only_in_flight=True,\n",
    ")"
   ]
  },
  {
   "cell_type": "markdown",
   "id": "351dfc0e",
   "metadata": {},
   "source": [
    "Parse flight test data."
   ]
  },
  {
   "cell_type": "code",
   "execution_count": null,
   "id": "2389614a",
   "metadata": {},
   "outputs": [],
   "source": [
    "# time\n",
    "t = data['time']\n",
    "\n",
    "# states\n",
    "o_x_true = data['ae483log.o_x']\n",
    "o_y_true = data['ae483log.o_y']\n",
    "o_z_true = data['ae483log.o_z']\n",
    "psi_true = data['ae483log.psi']\n",
    "theta_true = data['ae483log.theta']\n",
    "phi_true = data['ae483log.phi']\n",
    "v_x_true = data['ae483log.v_x']\n",
    "v_y_true = data['ae483log.v_y']\n",
    "v_z_true = data['ae483log.v_z']\n",
    "\n",
    "# inputs\n",
    "w_x_true = data['ae483log.w_x']\n",
    "w_y_true = data['ae483log.w_y']\n",
    "w_z_true = data['ae483log.w_z']\n",
    "a_z_true = data['ae483log.a_z']\n",
    "\n",
    "# outputs\n",
    "n_x_true = data['ae483log.n_x']\n",
    "n_y_true = data['ae483log.n_y']\n",
    "r_true = data['ae483log.r']"
   ]
  },
  {
   "cell_type": "markdown",
   "id": "d208de86",
   "metadata": {},
   "source": [
    "Define parameter values."
   ]
  },
  {
   "cell_type": "code",
   "execution_count": null,
   "id": "22cb2806",
   "metadata": {},
   "outputs": [],
   "source": [
    "# Acceleration of gravity\n",
    "g = 9.81\n",
    "\n",
    "# Optical flow constant (do not change)\n",
    "k_flow = 0.01 * 30.0 / np.deg2rad(4.2)\n",
    "\n",
    "# Equilibrium value of o_z\n",
    "o_z_eq = 0. # <-- FIXME: replace with the equilibrium height you chose in Lab 7\n",
    "\n",
    "# Time step (should be 0.01)\n",
    "dt = t[1] - t[0]\n",
    "print(f'dt = {dt:.4f} (should be 0.01)')"
   ]
  },
  {
   "cell_type": "markdown",
   "id": "ef6b2731",
   "metadata": {},
   "source": [
    "## 3.3 Apply observer for gain matrix chosen by equal weights"
   ]
  },
  {
   "cell_type": "markdown",
   "id": "1a907f72",
   "metadata": {},
   "source": [
    "Implement and run your observer in the following code cell. For each state, the result will be a numpy array (e.g., `o_x_hat`) that contains a state estimate at every time step."
   ]
  },
  {
   "cell_type": "code",
   "execution_count": null,
   "id": "f4904fd7",
   "metadata": {},
   "outputs": [],
   "source": [
    "# Initialize estimates\n",
    "o_x = 0.\n",
    "o_y = 0.\n",
    "o_z = 0.\n",
    "psi = 0.\n",
    "theta = 0.\n",
    "phi = 0.\n",
    "v_x = 0.\n",
    "v_y = 0.\n",
    "v_z = 0.\n",
    "\n",
    "# Initialize storage (do not change)\n",
    "o_x_hat = np.zeros(len(t))\n",
    "o_y_hat = np.zeros(len(t))\n",
    "o_z_hat = np.zeros(len(t))\n",
    "psi_hat = np.zeros(len(t))\n",
    "theta_hat = np.zeros(len(t))\n",
    "phi_hat = np.zeros(len(t))\n",
    "v_x_hat = np.zeros(len(t))\n",
    "v_y_hat = np.zeros(len(t))\n",
    "v_z_hat = np.zeros(len(t))\n",
    "\n",
    "# Iterate over all time steps\n",
    "for i in range(len(t)):\n",
    "    # Get measurements (do not change)\n",
    "    w_x = w_x_true[i]\n",
    "    w_y = w_y_true[i]\n",
    "    w_z = w_z_true[i]\n",
    "    a_z = a_z_true[i]\n",
    "    n_x = n_x_true[i]\n",
    "    n_y = n_y_true[i]\n",
    "    r = r_true[i]\n",
    "    \n",
    "    # Compute each element of:\n",
    "    #\n",
    "    #  C x + D u - y\n",
    "    #\n",
    "    n_x_err = 0.  # <-- FIXME\n",
    "    n_y_err = 0.  # <-- FIXME\n",
    "    r_err = 0.    # <-- FIXME\n",
    "    \n",
    "    # Update estimates\n",
    "    o_x += dt * (0.)   # <-- FIXME\n",
    "    o_y += dt * (0.)   # <-- FIXME\n",
    "    o_z += dt * (0.)   # <-- FIXME\n",
    "    psi += dt * (0.)   # <-- FIXME\n",
    "    theta += dt * (0.) # <-- FIXME\n",
    "    phi += dt * (0.)   # <-- FIXME\n",
    "    v_x += dt * (0.)   # <-- FIXME\n",
    "    v_y += dt * (0.)   # <-- FIXME\n",
    "    v_z += dt * (0.)   # <-- FIXME\n",
    "    \n",
    "    # Store estimates (do not change)\n",
    "    o_x_hat[i] = o_x\n",
    "    o_y_hat[i] = o_y\n",
    "    o_z_hat[i] = o_z\n",
    "    psi_hat[i] = psi\n",
    "    theta_hat[i] = theta\n",
    "    phi_hat[i] = phi\n",
    "    v_x_hat[i] = v_x\n",
    "    v_y_hat[i] = v_y\n",
    "    v_z_hat[i] = v_z"
   ]
  },
  {
   "cell_type": "markdown",
   "id": "14f8dc35",
   "metadata": {},
   "source": [
    "Compute error in each state estimate (relative to \"ground truth\" from the default code)."
   ]
  },
  {
   "cell_type": "code",
   "execution_count": null,
   "id": "92e750bb",
   "metadata": {},
   "outputs": [],
   "source": [
    "o_x_err = o_x_hat - o_x_true\n",
    "o_y_err = o_y_hat - o_y_true\n",
    "o_z_err = o_z_hat - o_z_true\n",
    "psi_err = psi_hat - psi_true\n",
    "theta_err = theta_hat - theta_true\n",
    "phi_err = phi_hat - phi_true\n",
    "v_x_err = v_x_hat - v_x_true\n",
    "v_y_err = v_y_hat - v_y_true\n",
    "v_z_err = v_z_hat - v_z_true"
   ]
  },
  {
   "cell_type": "markdown",
   "id": "760c4fcd",
   "metadata": {},
   "source": [
    "Compare estimates with ground truth."
   ]
  },
  {
   "cell_type": "code",
   "execution_count": null,
   "id": "988ef890",
   "metadata": {},
   "outputs": [],
   "source": [
    "def comparison_plot(t, s_hat, s_true, name, ax):\n",
    "    ax.plot(t, s_hat, label=f'{name} (estimated)', linewidth=3)\n",
    "    ax.plot(t, s_true, '--', label=f'{name} (true)', linewidth=2)\n",
    "    ax.legend()\n",
    "    ax.grid()\n",
    "\n",
    "fig, (ax_o_x,\n",
    "      ax_o_y,\n",
    "      ax_o_z,\n",
    "      ax_psi,\n",
    "      ax_theta,\n",
    "      ax_phi,\n",
    "      ax_v_x,\n",
    "      ax_v_y,\n",
    "      ax_v_z) = plt.subplots(9, 1, figsize=(15, 25), sharex=True)\n",
    "comparison_plot(t, o_x_hat, o_x_true, 'o_x', ax_o_x)\n",
    "comparison_plot(t, o_y_hat, o_y_true, 'o_y', ax_o_y)\n",
    "comparison_plot(t, o_z_hat, o_z_true, 'o_z', ax_o_z)\n",
    "comparison_plot(t, psi_hat, psi_true, 'psi', ax_psi)\n",
    "comparison_plot(t, theta_hat, theta_true, 'theta', ax_theta)\n",
    "comparison_plot(t, phi_hat, phi_true, 'phi', ax_phi)\n",
    "comparison_plot(t, v_x_hat, v_x_true, 'v_x', ax_v_x)\n",
    "comparison_plot(t, v_y_hat, v_y_true, 'v_y', ax_v_y)\n",
    "comparison_plot(t, v_z_hat, v_z_true, 'v_z', ax_v_z)\n",
    "ax_v_z.set_xlabel('time (s)')\n",
    "plt.show()"
   ]
  },
  {
   "cell_type": "markdown",
   "id": "34c65ac4",
   "metadata": {},
   "source": [
    "Plot error in each state estimate with respect to ground truth."
   ]
  },
  {
   "cell_type": "code",
   "execution_count": null,
   "id": "fffdc60b",
   "metadata": {},
   "outputs": [],
   "source": [
    "def error_plot(t, s_err, name, ax):\n",
    "    ax.plot(t, s_err, label=f'{name} (error)', linewidth=3)\n",
    "    ax.legend()\n",
    "    ax.grid()\n",
    "\n",
    "fig, (ax_o_x,\n",
    "      ax_o_y,\n",
    "      ax_o_z,\n",
    "      ax_psi,\n",
    "      ax_theta,\n",
    "      ax_phi,\n",
    "      ax_v_x,\n",
    "      ax_v_y,\n",
    "      ax_v_z) = plt.subplots(9, 1, figsize=(15, 25), sharex=True)\n",
    "error_plot(t, o_x_err, 'o_x', ax_o_x)\n",
    "error_plot(t, o_y_err, 'o_y', ax_o_y)\n",
    "error_plot(t, o_z_err, 'o_z', ax_o_z)\n",
    "error_plot(t, psi_err, 'psi', ax_psi)\n",
    "error_plot(t, theta_err, 'theta', ax_theta)\n",
    "error_plot(t, phi_err, 'phi', ax_phi)\n",
    "error_plot(t, v_x_err, 'v_x', ax_v_x)\n",
    "error_plot(t, v_y_err, 'v_y', ax_v_y)\n",
    "error_plot(t, v_z_err, 'v_z', ax_v_z)\n",
    "ax_v_z.set_xlabel('time (s)')\n",
    "plt.show()"
   ]
  },
  {
   "cell_type": "markdown",
   "id": "48b1352b",
   "metadata": {},
   "source": [
    "Plot histogram of errors in each state estimate."
   ]
  },
  {
   "cell_type": "code",
   "execution_count": null,
   "id": "385f864d",
   "metadata": {},
   "outputs": [],
   "source": [
    "def histogram_plot(t, s_err, name, ax):\n",
    "    label = f'Error in estimate of {name} ' + \\\n",
    "            f'(RMSE = {np.sqrt(np.mean(s_err**2)):6.3f}, ' + \\\n",
    "            f'mean = {np.mean(s_err):6.3f}, ' + \\\n",
    "            f'std = {np.std(s_err):6.3f})'\n",
    "    ax.hist(s_err, 50, label=label)\n",
    "    ax.legend(fontsize=14)\n",
    "\n",
    "fig, (ax_o_x,\n",
    "      ax_o_y,\n",
    "      ax_o_z,\n",
    "      ax_psi,\n",
    "      ax_theta,\n",
    "      ax_phi,\n",
    "      ax_v_x,\n",
    "      ax_v_y,\n",
    "      ax_v_z) = plt.subplots(9, 1, figsize=(15, 25))\n",
    "histogram_plot(t, o_x_err, 'o_x', ax_o_x)\n",
    "histogram_plot(t, o_y_err, 'o_y', ax_o_y)\n",
    "histogram_plot(t, o_z_err, 'o_z', ax_o_z)\n",
    "histogram_plot(t, psi_err, 'psi', ax_psi)\n",
    "histogram_plot(t, theta_err, 'theta', ax_theta)\n",
    "histogram_plot(t, phi_err, 'phi', ax_phi)\n",
    "histogram_plot(t, v_x_err, 'v_x', ax_v_x)\n",
    "histogram_plot(t, v_y_err, 'v_y', ax_v_y)\n",
    "histogram_plot(t, v_z_err, 'v_z', ax_v_z)\n",
    "fig.tight_layout()\n",
    "plt.show()"
   ]
  },
  {
   "cell_type": "markdown",
   "id": "7557007b",
   "metadata": {},
   "source": [
    "## 3.4 Apply observer for gain matrix chosen by weights from model error variance"
   ]
  },
  {
   "cell_type": "markdown",
   "id": "96dd853a",
   "metadata": {},
   "source": [
    "Implement and run your observer in the following code cell. For each state, the result will be a numpy array (e.g., `o_x_hat`) that contains a state estimate at every time step."
   ]
  },
  {
   "cell_type": "code",
   "execution_count": null,
   "id": "03cc3142",
   "metadata": {},
   "outputs": [],
   "source": [
    "# Initialize estimates\n",
    "o_x = 0.\n",
    "o_y = 0.\n",
    "o_z = 0.\n",
    "psi = 0.\n",
    "theta = 0.\n",
    "phi = 0.\n",
    "v_x = 0.\n",
    "v_y = 0.\n",
    "v_z = 0.\n",
    "\n",
    "# Initialize storage (do not change)\n",
    "o_x_hat = np.zeros(len(t))\n",
    "o_y_hat = np.zeros(len(t))\n",
    "o_z_hat = np.zeros(len(t))\n",
    "psi_hat = np.zeros(len(t))\n",
    "theta_hat = np.zeros(len(t))\n",
    "phi_hat = np.zeros(len(t))\n",
    "v_x_hat = np.zeros(len(t))\n",
    "v_y_hat = np.zeros(len(t))\n",
    "v_z_hat = np.zeros(len(t))\n",
    "\n",
    "# Iterate over all time steps\n",
    "for i in range(len(t)):\n",
    "    # Get measurements (do not change)\n",
    "    w_x = w_x_true[i]\n",
    "    w_y = w_y_true[i]\n",
    "    w_z = w_z_true[i]\n",
    "    a_z = a_z_true[i]\n",
    "    n_x = n_x_true[i]\n",
    "    n_y = n_y_true[i]\n",
    "    r = r_true[i]\n",
    "    \n",
    "    # Compute each element of:\n",
    "    #\n",
    "    #  C x + D u - y\n",
    "    #\n",
    "    n_x_err = 0.  # <-- FIXME\n",
    "    n_y_err = 0.  # <-- FIXME\n",
    "    r_err = 0.    # <-- FIXME\n",
    "    \n",
    "    # Update estimates\n",
    "    o_x += dt * (0.)   # <-- FIXME\n",
    "    o_y += dt * (0.)   # <-- FIXME\n",
    "    o_z += dt * (0.)   # <-- FIXME\n",
    "    psi += dt * (0.)   # <-- FIXME\n",
    "    theta += dt * (0.) # <-- FIXME\n",
    "    phi += dt * (0.)   # <-- FIXME\n",
    "    v_x += dt * (0.)   # <-- FIXME\n",
    "    v_y += dt * (0.)   # <-- FIXME\n",
    "    v_z += dt * (0.)   # <-- FIXME\n",
    "    \n",
    "    # Store estimates (do not change)\n",
    "    o_x_hat[i] = o_x\n",
    "    o_y_hat[i] = o_y\n",
    "    o_z_hat[i] = o_z\n",
    "    psi_hat[i] = psi\n",
    "    theta_hat[i] = theta\n",
    "    phi_hat[i] = phi\n",
    "    v_x_hat[i] = v_x\n",
    "    v_y_hat[i] = v_y\n",
    "    v_z_hat[i] = v_z"
   ]
  },
  {
   "cell_type": "markdown",
   "id": "3778dc8b",
   "metadata": {},
   "source": [
    "Compute error in each state estimate (relative to \"ground truth\" from the default code)."
   ]
  },
  {
   "cell_type": "code",
   "execution_count": null,
   "id": "6778f9ce",
   "metadata": {},
   "outputs": [],
   "source": [
    "o_x_err = o_x_hat - o_x_true\n",
    "o_y_err = o_y_hat - o_y_true\n",
    "o_z_err = o_z_hat - o_z_true\n",
    "psi_err = psi_hat - psi_true\n",
    "theta_err = theta_hat - theta_true\n",
    "phi_err = phi_hat - phi_true\n",
    "v_x_err = v_x_hat - v_x_true\n",
    "v_y_err = v_y_hat - v_y_true\n",
    "v_z_err = v_z_hat - v_z_true"
   ]
  },
  {
   "cell_type": "markdown",
   "id": "bbd1ebd0",
   "metadata": {},
   "source": [
    "Compare estimates with ground truth."
   ]
  },
  {
   "cell_type": "code",
   "execution_count": null,
   "id": "eb241398",
   "metadata": {},
   "outputs": [],
   "source": [
    "def comparison_plot(t, s_hat, s_true, name, ax):\n",
    "    ax.plot(t, s_hat, label=f'{name} (estimated)', linewidth=3)\n",
    "    ax.plot(t, s_true, '--', label=f'{name} (true)', linewidth=2)\n",
    "    ax.legend()\n",
    "    ax.grid()\n",
    "\n",
    "fig, (ax_o_x,\n",
    "      ax_o_y,\n",
    "      ax_o_z,\n",
    "      ax_psi,\n",
    "      ax_theta,\n",
    "      ax_phi,\n",
    "      ax_v_x,\n",
    "      ax_v_y,\n",
    "      ax_v_z) = plt.subplots(9, 1, figsize=(15, 25), sharex=True)\n",
    "comparison_plot(t, o_x_hat, o_x_true, 'o_x', ax_o_x)\n",
    "comparison_plot(t, o_y_hat, o_y_true, 'o_y', ax_o_y)\n",
    "comparison_plot(t, o_z_hat, o_z_true, 'o_z', ax_o_z)\n",
    "comparison_plot(t, psi_hat, psi_true, 'psi', ax_psi)\n",
    "comparison_plot(t, theta_hat, theta_true, 'theta', ax_theta)\n",
    "comparison_plot(t, phi_hat, phi_true, 'phi', ax_phi)\n",
    "comparison_plot(t, v_x_hat, v_x_true, 'v_x', ax_v_x)\n",
    "comparison_plot(t, v_y_hat, v_y_true, 'v_y', ax_v_y)\n",
    "comparison_plot(t, v_z_hat, v_z_true, 'v_z', ax_v_z)\n",
    "ax_v_z.set_xlabel('time (s)')\n",
    "plt.show()"
   ]
  },
  {
   "cell_type": "markdown",
   "id": "463f9ae5",
   "metadata": {},
   "source": [
    "Plot error in each state estimate with respect to ground truth."
   ]
  },
  {
   "cell_type": "code",
   "execution_count": null,
   "id": "0a605e90",
   "metadata": {},
   "outputs": [],
   "source": [
    "def error_plot(t, s_err, name, ax):\n",
    "    ax.plot(t, s_err, label=f'{name} (error)', linewidth=3)\n",
    "    ax.legend()\n",
    "    ax.grid()\n",
    "\n",
    "fig, (ax_o_x,\n",
    "      ax_o_y,\n",
    "      ax_o_z,\n",
    "      ax_psi,\n",
    "      ax_theta,\n",
    "      ax_phi,\n",
    "      ax_v_x,\n",
    "      ax_v_y,\n",
    "      ax_v_z) = plt.subplots(9, 1, figsize=(15, 25), sharex=True)\n",
    "error_plot(t, o_x_err, 'o_x', ax_o_x)\n",
    "error_plot(t, o_y_err, 'o_y', ax_o_y)\n",
    "error_plot(t, o_z_err, 'o_z', ax_o_z)\n",
    "error_plot(t, psi_err, 'psi', ax_psi)\n",
    "error_plot(t, theta_err, 'theta', ax_theta)\n",
    "error_plot(t, phi_err, 'phi', ax_phi)\n",
    "error_plot(t, v_x_err, 'v_x', ax_v_x)\n",
    "error_plot(t, v_y_err, 'v_y', ax_v_y)\n",
    "error_plot(t, v_z_err, 'v_z', ax_v_z)\n",
    "ax_v_z.set_xlabel('time (s)')\n",
    "plt.show()"
   ]
  },
  {
   "cell_type": "markdown",
   "id": "b09af9eb",
   "metadata": {},
   "source": [
    "Plot histogram of errors in each state estimate."
   ]
  },
  {
   "cell_type": "code",
   "execution_count": null,
   "id": "6ee34ea0",
   "metadata": {},
   "outputs": [],
   "source": [
    "def histogram_plot(t, s_err, name, ax):\n",
    "    label = f'Error in estimate of {name} ' + \\\n",
    "            f'(RMSE = {np.sqrt(np.mean(s_err**2)):6.3f}, ' + \\\n",
    "            f'mean = {np.mean(s_err):6.3f}, ' + \\\n",
    "            f'std = {np.std(s_err):6.3f})'\n",
    "    ax.hist(s_err, 50, label=label)\n",
    "    ax.legend(fontsize=14)\n",
    "\n",
    "fig, (ax_o_x,\n",
    "      ax_o_y,\n",
    "      ax_o_z,\n",
    "      ax_psi,\n",
    "      ax_theta,\n",
    "      ax_phi,\n",
    "      ax_v_x,\n",
    "      ax_v_y,\n",
    "      ax_v_z) = plt.subplots(9, 1, figsize=(15, 25))\n",
    "histogram_plot(t, o_x_err, 'o_x', ax_o_x)\n",
    "histogram_plot(t, o_y_err, 'o_y', ax_o_y)\n",
    "histogram_plot(t, o_z_err, 'o_z', ax_o_z)\n",
    "histogram_plot(t, psi_err, 'psi', ax_psi)\n",
    "histogram_plot(t, theta_err, 'theta', ax_theta)\n",
    "histogram_plot(t, phi_err, 'phi', ax_phi)\n",
    "histogram_plot(t, v_x_err, 'v_x', ax_v_x)\n",
    "histogram_plot(t, v_y_err, 'v_y', ax_v_y)\n",
    "histogram_plot(t, v_z_err, 'v_z', ax_v_z)\n",
    "fig.tight_layout()\n",
    "plt.show()"
   ]
  },
  {
   "cell_type": "markdown",
   "id": "ceedcdf4",
   "metadata": {},
   "source": [
    "## 3.5 Summary and discussion"
   ]
  },
  {
   "cell_type": "markdown",
   "id": "bbf0dedf",
   "metadata": {},
   "source": [
    "The following table reports the RMSE in each state estimate:\n",
    "\n",
    "|  | $o_x$ | $o_y$ | $o_z$ | $\\psi$ | $\\theta$ | $\\phi$ | $v_x$ | $v_y$ | $v_z$ |\n",
    "| --: | :--: | :--: | :--: | :--: | :--: | :--: | :--: | :--: | :--: |\n",
    "| RMSE with equal weights | 0.001 | 0.002 | 0.003 | 0.004 | 0.005 | 0.006 | 0.007 | 0.008 | 0.009 |\n",
    "| RMSE with weights from error model variance | 0.001 | 0.002 | 0.003 | 0.004 | 0.005 | 0.006 | 0.007 | 0.008 | 0.009 |"
   ]
  },
  {
   "cell_type": "markdown",
   "id": "53b74036",
   "metadata": {},
   "source": [
    "**Modify the text in this cell** to answer the following questions:\n",
    "\n",
    "* Which observer performs better, the one derived from equal weights or the one derive from weights based on error model variance? Why? (Make reference to your table of results when answering this question.)\n",
    "* Is there a difference in what happens to the error in your estimate of (1) observable states and (2) non-observable states over time? Why? (Make reference to your plots when answering this question.)\n",
    "* We refer to the state estimates that are computed on-board by the default code as \"true\"? Are they? For example, compare the landing position that you measured with a ruler (Section 3.1) to the final position that was estimated by the default code - to what extent are they the same? (You may want to disinguish between observable and non-observable states when answering this question.)"
   ]
  },
  {
   "cell_type": "code",
   "execution_count": null,
   "id": "1b0fc61c",
   "metadata": {},
   "outputs": [],
   "source": []
  }
 ],
 "metadata": {
  "kernelspec": {
   "display_name": "Python 3 (ipykernel)",
   "language": "python",
   "name": "python3"
  },
  "language_info": {
   "codemirror_mode": {
    "name": "ipython",
    "version": 3
   },
   "file_extension": ".py",
   "mimetype": "text/x-python",
   "name": "python",
   "nbconvert_exporter": "python",
   "pygments_lexer": "ipython3",
   "version": "3.10.5"
  }
 },
 "nbformat": 4,
 "nbformat_minor": 5
}
